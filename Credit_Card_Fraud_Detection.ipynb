{
  "nbformat": 4,
  "nbformat_minor": 0,
  "metadata": {
    "colab": {
      "provenance": [],
      "include_colab_link": true
    },
    "kernelspec": {
      "name": "python3",
      "display_name": "Python 3"
    },
    "language_info": {
      "name": "python"
    }
  },
  "cells": [
    {
      "cell_type": "markdown",
      "metadata": {
        "id": "view-in-github",
        "colab_type": "text"
      },
      "source": [
        "<a href=\"https://colab.research.google.com/github/Lavan1999/Dataset-18_CreditCardFraudDetection_XGB-Over_Sampling-/blob/main/Credit_Card_Fraud_Detection.ipynb\" target=\"_parent\"><img src=\"https://colab.research.google.com/assets/colab-badge.svg\" alt=\"Open In Colab\"/></a>"
      ]
    },
    {
      "cell_type": "code",
      "source": [
        "pip install xgboost"
      ],
      "metadata": {
        "id": "hTXNQwIZVeUo",
        "colab": {
          "base_uri": "https://localhost:8080/"
        },
        "outputId": "749b67cf-5db0-403d-ca36-7dcd355b9056"
      },
      "execution_count": null,
      "outputs": [
        {
          "output_type": "stream",
          "name": "stdout",
          "text": [
            "Requirement already satisfied: xgboost in /usr/local/lib/python3.10/dist-packages (2.0.3)\n",
            "Requirement already satisfied: numpy in /usr/local/lib/python3.10/dist-packages (from xgboost) (1.25.2)\n",
            "Requirement already satisfied: scipy in /usr/local/lib/python3.10/dist-packages (from xgboost) (1.11.4)\n"
          ]
        }
      ]
    },
    {
      "cell_type": "markdown",
      "source": [
        "# **Librarys**"
      ],
      "metadata": {
        "id": "yFojmG-TTSGT"
      }
    },
    {
      "cell_type": "code",
      "source": [
        "import pandas as pd\n",
        "import numpy as np\n",
        "\n",
        "#Connections\n",
        "from google.colab import drive\n",
        "\n",
        "#Statistic\n",
        "from scipy import stats\n",
        "\n",
        "#Visualization\n",
        "import plotly.graph_objects as go\n",
        "import plotly.express as px\n",
        "import matplotlib.pyplot as plt\n",
        "import seaborn as sns\n",
        "\n",
        "#Preprocessing\n",
        "from sklearn.preprocessing import OrdinalEncoder, MinMaxScaler, OneHotEncoder, StandardScaler\n",
        "\n",
        "#Machine Learning\n",
        "from sklearn.model_selection import train_test_split\n",
        "from lazypredict.Supervised import LazyClassifier\n",
        "from xgboost import XGBClassifier\n",
        "from lightgbm import LGBMClassifier\n",
        "from sklearn.metrics import top_k_accuracy_score, precision_score, recall_score"
      ],
      "metadata": {
        "id": "SbGF-nPCY1z7"
      },
      "execution_count": null,
      "outputs": []
    },
    {
      "cell_type": "markdown",
      "source": [
        "# **Connections**"
      ],
      "metadata": {
        "id": "EP5f3d7eqWld"
      }
    },
    {
      "cell_type": "code",
      "source": [
        "#Google drive\n",
        "drive.mount('/content/drive')"
      ],
      "metadata": {
        "id": "pHixmnYtqZSU",
        "colab": {
          "base_uri": "https://localhost:8080/"
        },
        "outputId": "6a0c040d-029e-4c5d-eebf-8c65a4816e0b"
      },
      "execution_count": null,
      "outputs": [
        {
          "output_type": "stream",
          "name": "stdout",
          "text": [
            "Drive already mounted at /content/drive; to attempt to forcibly remount, call drive.mount(\"/content/drive\", force_remount=True).\n"
          ]
        }
      ]
    },
    {
      "cell_type": "markdown",
      "source": [
        "# **Loading dataset**"
      ],
      "metadata": {
        "id": "rb9nPZsRqDqU"
      }
    },
    {
      "cell_type": "code",
      "source": [
        "#Google drive\n",
        "file_path = '/content/drive/My Drive/DTM15/Dataset/creditcard.csv'\n",
        "df = pd.read_csv(file_path)"
      ],
      "metadata": {
        "id": "FiLceUaOrBkF"
      },
      "execution_count": null,
      "outputs": []
    },
    {
      "cell_type": "code",
      "source": [
        "df.head()"
      ],
      "metadata": {
        "id": "ReVb6iJj7qEy",
        "colab": {
          "base_uri": "https://localhost:8080/",
          "height": 256
        },
        "outputId": "d58787b8-015b-49e3-fe20-04ec8863c48c"
      },
      "execution_count": null,
      "outputs": [
        {
          "output_type": "execute_result",
          "data": {
            "text/plain": [
              "   Time    V1    V2   V3    V4    V5    V6    V7    V8    V9  ...   V21   V22  \\\n",
              "0  0.00 -1.36 -0.07 2.54  1.38 -0.34  0.46  0.24  0.10  0.36  ... -0.02  0.28   \n",
              "1  0.00  1.19  0.27 0.17  0.45  0.06 -0.08 -0.08  0.09 -0.26  ... -0.23 -0.64   \n",
              "2  1.00 -1.36 -1.34 1.77  0.38 -0.50  1.80  0.79  0.25 -1.51  ...  0.25  0.77   \n",
              "3  1.00 -0.97 -0.19 1.79 -0.86 -0.01  1.25  0.24  0.38 -1.39  ... -0.11  0.01   \n",
              "4  2.00 -1.16  0.88 1.55  0.40 -0.41  0.10  0.59 -0.27  0.82  ... -0.01  0.80   \n",
              "\n",
              "    V23   V24   V25   V26   V27   V28  Amount  Class  \n",
              "0 -0.11  0.07  0.13 -0.19  0.13 -0.02  149.62      0  \n",
              "1  0.10 -0.34  0.17  0.13 -0.01  0.01    2.69      0  \n",
              "2  0.91 -0.69 -0.33 -0.14 -0.06 -0.06  378.66      0  \n",
              "3 -0.19 -1.18  0.65 -0.22  0.06  0.06  123.50      0  \n",
              "4 -0.14  0.14 -0.21  0.50  0.22  0.22   69.99      0  \n",
              "\n",
              "[5 rows x 31 columns]"
            ],
            "text/html": [
              "\n",
              "  <div id=\"df-bdf1e9c8-8d97-41a7-825b-6f2fef111b71\" class=\"colab-df-container\">\n",
              "    <div>\n",
              "<style scoped>\n",
              "    .dataframe tbody tr th:only-of-type {\n",
              "        vertical-align: middle;\n",
              "    }\n",
              "\n",
              "    .dataframe tbody tr th {\n",
              "        vertical-align: top;\n",
              "    }\n",
              "\n",
              "    .dataframe thead th {\n",
              "        text-align: right;\n",
              "    }\n",
              "</style>\n",
              "<table border=\"1\" class=\"dataframe\">\n",
              "  <thead>\n",
              "    <tr style=\"text-align: right;\">\n",
              "      <th></th>\n",
              "      <th>Time</th>\n",
              "      <th>V1</th>\n",
              "      <th>V2</th>\n",
              "      <th>V3</th>\n",
              "      <th>V4</th>\n",
              "      <th>V5</th>\n",
              "      <th>V6</th>\n",
              "      <th>V7</th>\n",
              "      <th>V8</th>\n",
              "      <th>V9</th>\n",
              "      <th>...</th>\n",
              "      <th>V21</th>\n",
              "      <th>V22</th>\n",
              "      <th>V23</th>\n",
              "      <th>V24</th>\n",
              "      <th>V25</th>\n",
              "      <th>V26</th>\n",
              "      <th>V27</th>\n",
              "      <th>V28</th>\n",
              "      <th>Amount</th>\n",
              "      <th>Class</th>\n",
              "    </tr>\n",
              "  </thead>\n",
              "  <tbody>\n",
              "    <tr>\n",
              "      <th>0</th>\n",
              "      <td>0.00</td>\n",
              "      <td>-1.36</td>\n",
              "      <td>-0.07</td>\n",
              "      <td>2.54</td>\n",
              "      <td>1.38</td>\n",
              "      <td>-0.34</td>\n",
              "      <td>0.46</td>\n",
              "      <td>0.24</td>\n",
              "      <td>0.10</td>\n",
              "      <td>0.36</td>\n",
              "      <td>...</td>\n",
              "      <td>-0.02</td>\n",
              "      <td>0.28</td>\n",
              "      <td>-0.11</td>\n",
              "      <td>0.07</td>\n",
              "      <td>0.13</td>\n",
              "      <td>-0.19</td>\n",
              "      <td>0.13</td>\n",
              "      <td>-0.02</td>\n",
              "      <td>149.62</td>\n",
              "      <td>0</td>\n",
              "    </tr>\n",
              "    <tr>\n",
              "      <th>1</th>\n",
              "      <td>0.00</td>\n",
              "      <td>1.19</td>\n",
              "      <td>0.27</td>\n",
              "      <td>0.17</td>\n",
              "      <td>0.45</td>\n",
              "      <td>0.06</td>\n",
              "      <td>-0.08</td>\n",
              "      <td>-0.08</td>\n",
              "      <td>0.09</td>\n",
              "      <td>-0.26</td>\n",
              "      <td>...</td>\n",
              "      <td>-0.23</td>\n",
              "      <td>-0.64</td>\n",
              "      <td>0.10</td>\n",
              "      <td>-0.34</td>\n",
              "      <td>0.17</td>\n",
              "      <td>0.13</td>\n",
              "      <td>-0.01</td>\n",
              "      <td>0.01</td>\n",
              "      <td>2.69</td>\n",
              "      <td>0</td>\n",
              "    </tr>\n",
              "    <tr>\n",
              "      <th>2</th>\n",
              "      <td>1.00</td>\n",
              "      <td>-1.36</td>\n",
              "      <td>-1.34</td>\n",
              "      <td>1.77</td>\n",
              "      <td>0.38</td>\n",
              "      <td>-0.50</td>\n",
              "      <td>1.80</td>\n",
              "      <td>0.79</td>\n",
              "      <td>0.25</td>\n",
              "      <td>-1.51</td>\n",
              "      <td>...</td>\n",
              "      <td>0.25</td>\n",
              "      <td>0.77</td>\n",
              "      <td>0.91</td>\n",
              "      <td>-0.69</td>\n",
              "      <td>-0.33</td>\n",
              "      <td>-0.14</td>\n",
              "      <td>-0.06</td>\n",
              "      <td>-0.06</td>\n",
              "      <td>378.66</td>\n",
              "      <td>0</td>\n",
              "    </tr>\n",
              "    <tr>\n",
              "      <th>3</th>\n",
              "      <td>1.00</td>\n",
              "      <td>-0.97</td>\n",
              "      <td>-0.19</td>\n",
              "      <td>1.79</td>\n",
              "      <td>-0.86</td>\n",
              "      <td>-0.01</td>\n",
              "      <td>1.25</td>\n",
              "      <td>0.24</td>\n",
              "      <td>0.38</td>\n",
              "      <td>-1.39</td>\n",
              "      <td>...</td>\n",
              "      <td>-0.11</td>\n",
              "      <td>0.01</td>\n",
              "      <td>-0.19</td>\n",
              "      <td>-1.18</td>\n",
              "      <td>0.65</td>\n",
              "      <td>-0.22</td>\n",
              "      <td>0.06</td>\n",
              "      <td>0.06</td>\n",
              "      <td>123.50</td>\n",
              "      <td>0</td>\n",
              "    </tr>\n",
              "    <tr>\n",
              "      <th>4</th>\n",
              "      <td>2.00</td>\n",
              "      <td>-1.16</td>\n",
              "      <td>0.88</td>\n",
              "      <td>1.55</td>\n",
              "      <td>0.40</td>\n",
              "      <td>-0.41</td>\n",
              "      <td>0.10</td>\n",
              "      <td>0.59</td>\n",
              "      <td>-0.27</td>\n",
              "      <td>0.82</td>\n",
              "      <td>...</td>\n",
              "      <td>-0.01</td>\n",
              "      <td>0.80</td>\n",
              "      <td>-0.14</td>\n",
              "      <td>0.14</td>\n",
              "      <td>-0.21</td>\n",
              "      <td>0.50</td>\n",
              "      <td>0.22</td>\n",
              "      <td>0.22</td>\n",
              "      <td>69.99</td>\n",
              "      <td>0</td>\n",
              "    </tr>\n",
              "  </tbody>\n",
              "</table>\n",
              "<p>5 rows × 31 columns</p>\n",
              "</div>\n",
              "    <div class=\"colab-df-buttons\">\n",
              "\n",
              "  <div class=\"colab-df-container\">\n",
              "    <button class=\"colab-df-convert\" onclick=\"convertToInteractive('df-bdf1e9c8-8d97-41a7-825b-6f2fef111b71')\"\n",
              "            title=\"Convert this dataframe to an interactive table.\"\n",
              "            style=\"display:none;\">\n",
              "\n",
              "  <svg xmlns=\"http://www.w3.org/2000/svg\" height=\"24px\" viewBox=\"0 -960 960 960\">\n",
              "    <path d=\"M120-120v-720h720v720H120Zm60-500h600v-160H180v160Zm220 220h160v-160H400v160Zm0 220h160v-160H400v160ZM180-400h160v-160H180v160Zm440 0h160v-160H620v160ZM180-180h160v-160H180v160Zm440 0h160v-160H620v160Z\"/>\n",
              "  </svg>\n",
              "    </button>\n",
              "\n",
              "  <style>\n",
              "    .colab-df-container {\n",
              "      display:flex;\n",
              "      gap: 12px;\n",
              "    }\n",
              "\n",
              "    .colab-df-convert {\n",
              "      background-color: #E8F0FE;\n",
              "      border: none;\n",
              "      border-radius: 50%;\n",
              "      cursor: pointer;\n",
              "      display: none;\n",
              "      fill: #1967D2;\n",
              "      height: 32px;\n",
              "      padding: 0 0 0 0;\n",
              "      width: 32px;\n",
              "    }\n",
              "\n",
              "    .colab-df-convert:hover {\n",
              "      background-color: #E2EBFA;\n",
              "      box-shadow: 0px 1px 2px rgba(60, 64, 67, 0.3), 0px 1px 3px 1px rgba(60, 64, 67, 0.15);\n",
              "      fill: #174EA6;\n",
              "    }\n",
              "\n",
              "    .colab-df-buttons div {\n",
              "      margin-bottom: 4px;\n",
              "    }\n",
              "\n",
              "    [theme=dark] .colab-df-convert {\n",
              "      background-color: #3B4455;\n",
              "      fill: #D2E3FC;\n",
              "    }\n",
              "\n",
              "    [theme=dark] .colab-df-convert:hover {\n",
              "      background-color: #434B5C;\n",
              "      box-shadow: 0px 1px 3px 1px rgba(0, 0, 0, 0.15);\n",
              "      filter: drop-shadow(0px 1px 2px rgba(0, 0, 0, 0.3));\n",
              "      fill: #FFFFFF;\n",
              "    }\n",
              "  </style>\n",
              "\n",
              "    <script>\n",
              "      const buttonEl =\n",
              "        document.querySelector('#df-bdf1e9c8-8d97-41a7-825b-6f2fef111b71 button.colab-df-convert');\n",
              "      buttonEl.style.display =\n",
              "        google.colab.kernel.accessAllowed ? 'block' : 'none';\n",
              "\n",
              "      async function convertToInteractive(key) {\n",
              "        const element = document.querySelector('#df-bdf1e9c8-8d97-41a7-825b-6f2fef111b71');\n",
              "        const dataTable =\n",
              "          await google.colab.kernel.invokeFunction('convertToInteractive',\n",
              "                                                    [key], {});\n",
              "        if (!dataTable) return;\n",
              "\n",
              "        const docLinkHtml = 'Like what you see? Visit the ' +\n",
              "          '<a target=\"_blank\" href=https://colab.research.google.com/notebooks/data_table.ipynb>data table notebook</a>'\n",
              "          + ' to learn more about interactive tables.';\n",
              "        element.innerHTML = '';\n",
              "        dataTable['output_type'] = 'display_data';\n",
              "        await google.colab.output.renderOutput(dataTable, element);\n",
              "        const docLink = document.createElement('div');\n",
              "        docLink.innerHTML = docLinkHtml;\n",
              "        element.appendChild(docLink);\n",
              "      }\n",
              "    </script>\n",
              "  </div>\n",
              "\n",
              "\n",
              "<div id=\"df-cab6871e-a02f-4547-b9b4-44c84e1f48e1\">\n",
              "  <button class=\"colab-df-quickchart\" onclick=\"quickchart('df-cab6871e-a02f-4547-b9b4-44c84e1f48e1')\"\n",
              "            title=\"Suggest charts\"\n",
              "            style=\"display:none;\">\n",
              "\n",
              "<svg xmlns=\"http://www.w3.org/2000/svg\" height=\"24px\"viewBox=\"0 0 24 24\"\n",
              "     width=\"24px\">\n",
              "    <g>\n",
              "        <path d=\"M19 3H5c-1.1 0-2 .9-2 2v14c0 1.1.9 2 2 2h14c1.1 0 2-.9 2-2V5c0-1.1-.9-2-2-2zM9 17H7v-7h2v7zm4 0h-2V7h2v10zm4 0h-2v-4h2v4z\"/>\n",
              "    </g>\n",
              "</svg>\n",
              "  </button>\n",
              "\n",
              "<style>\n",
              "  .colab-df-quickchart {\n",
              "      --bg-color: #E8F0FE;\n",
              "      --fill-color: #1967D2;\n",
              "      --hover-bg-color: #E2EBFA;\n",
              "      --hover-fill-color: #174EA6;\n",
              "      --disabled-fill-color: #AAA;\n",
              "      --disabled-bg-color: #DDD;\n",
              "  }\n",
              "\n",
              "  [theme=dark] .colab-df-quickchart {\n",
              "      --bg-color: #3B4455;\n",
              "      --fill-color: #D2E3FC;\n",
              "      --hover-bg-color: #434B5C;\n",
              "      --hover-fill-color: #FFFFFF;\n",
              "      --disabled-bg-color: #3B4455;\n",
              "      --disabled-fill-color: #666;\n",
              "  }\n",
              "\n",
              "  .colab-df-quickchart {\n",
              "    background-color: var(--bg-color);\n",
              "    border: none;\n",
              "    border-radius: 50%;\n",
              "    cursor: pointer;\n",
              "    display: none;\n",
              "    fill: var(--fill-color);\n",
              "    height: 32px;\n",
              "    padding: 0;\n",
              "    width: 32px;\n",
              "  }\n",
              "\n",
              "  .colab-df-quickchart:hover {\n",
              "    background-color: var(--hover-bg-color);\n",
              "    box-shadow: 0 1px 2px rgba(60, 64, 67, 0.3), 0 1px 3px 1px rgba(60, 64, 67, 0.15);\n",
              "    fill: var(--button-hover-fill-color);\n",
              "  }\n",
              "\n",
              "  .colab-df-quickchart-complete:disabled,\n",
              "  .colab-df-quickchart-complete:disabled:hover {\n",
              "    background-color: var(--disabled-bg-color);\n",
              "    fill: var(--disabled-fill-color);\n",
              "    box-shadow: none;\n",
              "  }\n",
              "\n",
              "  .colab-df-spinner {\n",
              "    border: 2px solid var(--fill-color);\n",
              "    border-color: transparent;\n",
              "    border-bottom-color: var(--fill-color);\n",
              "    animation:\n",
              "      spin 1s steps(1) infinite;\n",
              "  }\n",
              "\n",
              "  @keyframes spin {\n",
              "    0% {\n",
              "      border-color: transparent;\n",
              "      border-bottom-color: var(--fill-color);\n",
              "      border-left-color: var(--fill-color);\n",
              "    }\n",
              "    20% {\n",
              "      border-color: transparent;\n",
              "      border-left-color: var(--fill-color);\n",
              "      border-top-color: var(--fill-color);\n",
              "    }\n",
              "    30% {\n",
              "      border-color: transparent;\n",
              "      border-left-color: var(--fill-color);\n",
              "      border-top-color: var(--fill-color);\n",
              "      border-right-color: var(--fill-color);\n",
              "    }\n",
              "    40% {\n",
              "      border-color: transparent;\n",
              "      border-right-color: var(--fill-color);\n",
              "      border-top-color: var(--fill-color);\n",
              "    }\n",
              "    60% {\n",
              "      border-color: transparent;\n",
              "      border-right-color: var(--fill-color);\n",
              "    }\n",
              "    80% {\n",
              "      border-color: transparent;\n",
              "      border-right-color: var(--fill-color);\n",
              "      border-bottom-color: var(--fill-color);\n",
              "    }\n",
              "    90% {\n",
              "      border-color: transparent;\n",
              "      border-bottom-color: var(--fill-color);\n",
              "    }\n",
              "  }\n",
              "</style>\n",
              "\n",
              "  <script>\n",
              "    async function quickchart(key) {\n",
              "      const quickchartButtonEl =\n",
              "        document.querySelector('#' + key + ' button');\n",
              "      quickchartButtonEl.disabled = true;  // To prevent multiple clicks.\n",
              "      quickchartButtonEl.classList.add('colab-df-spinner');\n",
              "      try {\n",
              "        const charts = await google.colab.kernel.invokeFunction(\n",
              "            'suggestCharts', [key], {});\n",
              "      } catch (error) {\n",
              "        console.error('Error during call to suggestCharts:', error);\n",
              "      }\n",
              "      quickchartButtonEl.classList.remove('colab-df-spinner');\n",
              "      quickchartButtonEl.classList.add('colab-df-quickchart-complete');\n",
              "    }\n",
              "    (() => {\n",
              "      let quickchartButtonEl =\n",
              "        document.querySelector('#df-cab6871e-a02f-4547-b9b4-44c84e1f48e1 button');\n",
              "      quickchartButtonEl.style.display =\n",
              "        google.colab.kernel.accessAllowed ? 'block' : 'none';\n",
              "    })();\n",
              "  </script>\n",
              "</div>\n",
              "\n",
              "    </div>\n",
              "  </div>\n"
            ],
            "application/vnd.google.colaboratory.intrinsic+json": {
              "type": "dataframe",
              "variable_name": "df"
            }
          },
          "metadata": {},
          "execution_count": 8
        }
      ]
    },
    {
      "cell_type": "code",
      "source": [
        "df.shape"
      ],
      "metadata": {
        "colab": {
          "base_uri": "https://localhost:8080/"
        },
        "id": "MYbDr44t3-vY",
        "outputId": "08c477df-eaea-4eda-d5b3-206a95f7f335"
      },
      "execution_count": null,
      "outputs": [
        {
          "output_type": "execute_result",
          "data": {
            "text/plain": [
              "(284807, 31)"
            ]
          },
          "metadata": {},
          "execution_count": 5
        }
      ]
    },
    {
      "cell_type": "code",
      "source": [
        "df.Class.value_counts()"
      ],
      "metadata": {
        "colab": {
          "base_uri": "https://localhost:8080/"
        },
        "id": "L5WWa7YW4U_Q",
        "outputId": "9d1626f5-8c5a-489b-a401-db047906c06a"
      },
      "execution_count": null,
      "outputs": [
        {
          "output_type": "execute_result",
          "data": {
            "text/plain": [
              "Class\n",
              "0    284315\n",
              "1       492\n",
              "Name: count, dtype: int64"
            ]
          },
          "metadata": {},
          "execution_count": 45
        }
      ]
    },
    {
      "cell_type": "markdown",
      "source": [
        "# **DataFrame observation**\n"
      ],
      "metadata": {
        "id": "Sjvup7z5TcIL"
      }
    },
    {
      "cell_type": "code",
      "source": [
        "df.columns"
      ],
      "metadata": {
        "colab": {
          "base_uri": "https://localhost:8080/"
        },
        "id": "zN1elikkH588",
        "outputId": "c5590925-4120-47c9-b23c-7f3d8325fa4d"
      },
      "execution_count": null,
      "outputs": [
        {
          "output_type": "execute_result",
          "data": {
            "text/plain": [
              "Index(['Time', 'V1', 'V2', 'V3', 'V4', 'V5', 'V6', 'V7', 'V8', 'V9', 'V10',\n",
              "       'V11', 'V12', 'V13', 'V14', 'V15', 'V16', 'V17', 'V18', 'V19', 'V20',\n",
              "       'V21', 'V22', 'V23', 'V24', 'V25', 'V26', 'V27', 'V28', 'Amount',\n",
              "       'Class'],\n",
              "      dtype='object')"
            ]
          },
          "metadata": {},
          "execution_count": 9
        }
      ]
    },
    {
      "cell_type": "code",
      "source": [
        "# Dependent - Class\n",
        "# Independent - Time, Amount\n",
        "\n",
        "continuous_columns = [\"Time\", 'V1', 'V2', 'V3', 'V4', 'V5', 'V6', 'V7', 'V8', 'V9', 'V10',\n",
        "                      'V11', 'V12', 'V13', 'V14', 'V15', 'V16', 'V17', 'V18', 'V19', 'V20',\n",
        "                      'V21', 'V22', 'V23', 'V24', 'V25', 'V26', 'V27', 'V28', \"Amount\"]\n",
        "category_columns = [\"Class\"]\n",
        "\n",
        "#Supervised Classification"
      ],
      "metadata": {
        "id": "ax5hruFX1cos"
      },
      "execution_count": null,
      "outputs": []
    },
    {
      "cell_type": "markdown",
      "source": [
        "# **Data cleaning using pandas**\n"
      ],
      "metadata": {
        "id": "tK5TaaLLYId6"
      }
    },
    {
      "cell_type": "code",
      "source": [
        "df.info()"
      ],
      "metadata": {
        "colab": {
          "base_uri": "https://localhost:8080/"
        },
        "id": "44Hhle4xE8ht",
        "outputId": "3452a754-0f4b-48fa-b369-be3e39575d77"
      },
      "execution_count": null,
      "outputs": [
        {
          "output_type": "stream",
          "name": "stdout",
          "text": [
            "<class 'pandas.core.frame.DataFrame'>\n",
            "RangeIndex: 284807 entries, 0 to 284806\n",
            "Data columns (total 31 columns):\n",
            " #   Column  Non-Null Count   Dtype  \n",
            "---  ------  --------------   -----  \n",
            " 0   Time    284807 non-null  float64\n",
            " 1   V1      284807 non-null  float64\n",
            " 2   V2      284807 non-null  float64\n",
            " 3   V3      284807 non-null  float64\n",
            " 4   V4      284807 non-null  float64\n",
            " 5   V5      284807 non-null  float64\n",
            " 6   V6      284807 non-null  float64\n",
            " 7   V7      284807 non-null  float64\n",
            " 8   V8      284807 non-null  float64\n",
            " 9   V9      284807 non-null  float64\n",
            " 10  V10     284807 non-null  float64\n",
            " 11  V11     284807 non-null  float64\n",
            " 12  V12     284807 non-null  float64\n",
            " 13  V13     284807 non-null  float64\n",
            " 14  V14     284807 non-null  float64\n",
            " 15  V15     284807 non-null  float64\n",
            " 16  V16     284807 non-null  float64\n",
            " 17  V17     284807 non-null  float64\n",
            " 18  V18     284807 non-null  float64\n",
            " 19  V19     284807 non-null  float64\n",
            " 20  V20     284807 non-null  float64\n",
            " 21  V21     284807 non-null  float64\n",
            " 22  V22     284807 non-null  float64\n",
            " 23  V23     284807 non-null  float64\n",
            " 24  V24     284807 non-null  float64\n",
            " 25  V25     284807 non-null  float64\n",
            " 26  V26     284807 non-null  float64\n",
            " 27  V27     284807 non-null  float64\n",
            " 28  V28     284807 non-null  float64\n",
            " 29  Amount  284807 non-null  float64\n",
            " 30  Class   284807 non-null  int64  \n",
            "dtypes: float64(30), int64(1)\n",
            "memory usage: 67.4 MB\n"
          ]
        }
      ]
    },
    {
      "cell_type": "code",
      "source": [
        "df.isnull().sum()"
      ],
      "metadata": {
        "colab": {
          "base_uri": "https://localhost:8080/"
        },
        "id": "aRcCVdZhAp3a",
        "outputId": "873208cf-1db5-433a-ec2d-132abb5aedb3"
      },
      "execution_count": null,
      "outputs": [
        {
          "output_type": "execute_result",
          "data": {
            "text/plain": [
              "Time      0\n",
              "V1        0\n",
              "V2        0\n",
              "V3        0\n",
              "V4        0\n",
              "V5        0\n",
              "V6        0\n",
              "V7        0\n",
              "V8        0\n",
              "V9        0\n",
              "V10       0\n",
              "V11       0\n",
              "V12       0\n",
              "V13       0\n",
              "V14       0\n",
              "V15       0\n",
              "V16       0\n",
              "V17       0\n",
              "V18       0\n",
              "V19       0\n",
              "V20       0\n",
              "V21       0\n",
              "V22       0\n",
              "V23       0\n",
              "V24       0\n",
              "V25       0\n",
              "V26       0\n",
              "V27       0\n",
              "V28       0\n",
              "Amount    0\n",
              "Class     0\n",
              "dtype: int64"
            ]
          },
          "metadata": {},
          "execution_count": 12
        }
      ]
    },
    {
      "cell_type": "code",
      "source": [
        "df.duplicated().sum()"
      ],
      "metadata": {
        "colab": {
          "base_uri": "https://localhost:8080/"
        },
        "id": "WJE_YUQ6FVak",
        "outputId": "ecea7fe1-3919-4e76-8ac4-907649bb42ea"
      },
      "execution_count": null,
      "outputs": [
        {
          "output_type": "execute_result",
          "data": {
            "text/plain": [
              "1081"
            ]
          },
          "metadata": {},
          "execution_count": 10
        }
      ]
    },
    {
      "cell_type": "code",
      "source": [
        "df.drop_duplicates(inplace = True)"
      ],
      "metadata": {
        "id": "e9X82kAyqWMr"
      },
      "execution_count": null,
      "outputs": []
    },
    {
      "cell_type": "code",
      "source": [
        "df.Class.value_counts()"
      ],
      "metadata": {
        "colab": {
          "base_uri": "https://localhost:8080/"
        },
        "id": "gjZXyKPr5F0R",
        "outputId": "f473dd8e-7a1c-42e5-a188-c35d5dab53ec"
      },
      "execution_count": null,
      "outputs": [
        {
          "output_type": "execute_result",
          "data": {
            "text/plain": [
              "Class\n",
              "0    283253\n",
              "1       473\n",
              "Name: count, dtype: int64"
            ]
          },
          "metadata": {},
          "execution_count": 15
        }
      ]
    },
    {
      "cell_type": "code",
      "source": [
        "#Imbalance"
      ],
      "metadata": {
        "id": "Ro5nU-faGFeG"
      },
      "execution_count": null,
      "outputs": []
    },
    {
      "cell_type": "markdown",
      "source": [
        "# **Hypothesis testing / Statistical analysis**\n"
      ],
      "metadata": {
        "id": "Js59uCc4WMNu"
      }
    },
    {
      "cell_type": "markdown",
      "source": [
        "Continuous - Central Limit Theorem, 1-Tailed Test (one-sample t-test)\n",
        "\n",
        "Continuous vs. Continuous - Correlation, 2-Tailed Test (two-sample t-test)\n",
        "\n",
        "Continuous vs. Categorical - ANOVA (Analysis of Variance)\n",
        "\n",
        "Categorical vs. Categorical - Chi-Square Test"
      ],
      "metadata": {
        "id": "2tlHCw1JgXFz"
      }
    },
    {
      "cell_type": "code",
      "source": [
        "def hypothesisTesting(df, continuous_columns = [], category_columns = [], sampling_rate = 0.20, sampling_frac=0.05):\n",
        "  df = df\n",
        "  #Central Limit Theorem\n",
        "  oneContinesColumn_result = {}\n",
        "  hypothesis_df = pd.DataFrame(columns=df.columns, index=df.columns)\n",
        "  if continuous_columns:\n",
        "    samplesize = int(sampling_rate * len(df[continuous_columns[0]]))\n",
        "    for column in continuous_columns:\n",
        "      population=df[column].values\n",
        "      population_mean = population.mean()\n",
        "      sample_mean=[]\n",
        "      for i in range(40):\n",
        "        sample=np.random.choice(population,samplesize)\n",
        "        sample_mean.append(sample.mean())\n",
        "      oneContinesColumn_result[column] = {\n",
        "                                          \"Population Mean\": population_mean,\n",
        "                                          \"Sample Means\": {np.mean(sample_mean)}\n",
        "                                          }\n",
        "\n",
        "  #1-Tailed Test\n",
        "  if continuous_columns:\n",
        "    samplesize = int(sampling_rate * len(df[continuous_columns[0]]))\n",
        "    for column in continuous_columns:\n",
        "      H0_accepted = 0\n",
        "      H0_rejected = 0\n",
        "      for i in range(samplesize):\n",
        "        sample=df[column].sample(frac=sampling_frac)\n",
        "        t_test,p_value=stats.ttest_1samp(sample,df[column].mean())\n",
        "        if p_value > 0.5:\n",
        "          H0_accepted += 1\n",
        "        else:\n",
        "          H0_rejected += 1\n",
        "\n",
        "      if H0_accepted > H0_rejected:\n",
        "          oneContinesColumn_result[column].update( {\n",
        "                                            \"H0_accepted\": H0_accepted,\n",
        "                                            \"H0_rejected\": H0_rejected,\n",
        "                                            \"Conclusion\": \"H0 is accepted, Ha is rejected, There is no significant effect\"\n",
        "                                          } )\n",
        "          hypothesis_df[column][column] = \"There is a relationship\"\n",
        "\n",
        "      else:\n",
        "          oneContinesColumn_result[column].update( {\n",
        "                                              \"H0_accepted\": H0_accepted,\n",
        "                                              \"H0_rejected\": H0_rejected,\n",
        "                                              \"Conclusion\": \"H0 is rejected, Ha is accepted, There is a significant effect\"\n",
        "                                              } )\n",
        "          hypothesis_df[column][column] = \"There is no relationship\"\n",
        "\n",
        "\n",
        "  #2-Tailed Test\n",
        "  for i in range(len(continuous_columns) - 1):\n",
        "      column_1 = continuous_columns[i]\n",
        "      for column_2 in continuous_columns[i+1:]:\n",
        "        H0_accepted = 0\n",
        "        H0_rejected = 0\n",
        "        for i in range(20):\n",
        "          sample1 = df[column_1].sample(frac=sampling_frac)\n",
        "          sample2 = df[column_2].sample(frac=sampling_frac)\n",
        "          t_test, p_value = stats.ttest_ind(sample1, sample2)\n",
        "          if p_value > 0.5:\n",
        "            H0_accepted += 1\n",
        "          else:\n",
        "            H0_rejected += 1\n",
        "\n",
        "        if H0_accepted > H0_rejected:\n",
        "          #H0 is accepted, Ha is rejected, There is no significant effect. \"H0_accepted\": H0_accepted, \"H0_rejected\": H0_rejected\n",
        "          hypothesis_df[column_1][column_2] = \"There is a relationship\"\n",
        "          hypothesis_df[column_2][column_1] = \"There is a relationship\"\n",
        "        else:\n",
        "          #H0 is rejected, Ha is accepted, There is a significant effect. \"H0_accepted\": H0_accepted, \"H0_rejected\": H0_rejected\n",
        "            hypothesis_df[column_1][column_2] = \"There is no relationship\"\n",
        "            hypothesis_df[column_2][column_1] = \"There is no relationship\"\n",
        "\n",
        "  #Chi-Square Test\n",
        "  if category_columns:\n",
        "    for i in range(len(category_columns) - 1):\n",
        "        column_1 = category_columns[i]\n",
        "        for column_2 in category_columns[i + 1:]:\n",
        "            data = pd.crosstab(df[column_1], df[column_2])\n",
        "            observed_values = data.values\n",
        "            chi2_stat, p_value, _, _ = stats.chi2_contingency(observed_values)\n",
        "\n",
        "            if p_value > 0.05:\n",
        "                # H0 is accepted, There is no relationship between two columns we're comparing\n",
        "                hypothesis_df[column_1][column_2] = \"There is no relationship\"\n",
        "                hypothesis_df[column_2][column_1] = \"There is no relationship\"\n",
        "            else:\n",
        "                # H0 is rejected, There is a relationship between two columns we're comparing\n",
        "                hypothesis_df[column_1][column_2] = \"There is a relationship\"\n",
        "                hypothesis_df[column_2][column_1] = \"There is a relationship\"\n",
        "\n",
        "  #ANOVA\n",
        "  if continuous_columns and category_columns:\n",
        "    for category_column in category_columns:\n",
        "      for continuous_column in continuous_columns:\n",
        "        group = df[category_column].unique()\n",
        "        data = {}\n",
        "        for i in group:\n",
        "          data[i]=df[continuous_column][df[category_column]==i]\n",
        "\n",
        "        f_value, p_value = stats.f_oneway(*[data[i] for i in group])\n",
        "        if p_value > 0.05:\n",
        "            # H0 is accepted, There is a relationship between two columns we're comparing\n",
        "            hypothesis_df[category_column][continuous_column] = \"There is a relationship\"\n",
        "            hypothesis_df[continuous_column][category_column] = \"There is a relationship\"\n",
        "        else:\n",
        "            # H0 is rejected, There is no relationship between two columns we're comparing\n",
        "            hypothesis_df[category_column][continuous_column] = \"There is no relationship\"\n",
        "            hypothesis_df[continuous_column][category_column] = \"There is no relationship\"\n",
        "\n",
        "  return oneContinesColumn_result, hypothesis_df"
      ],
      "metadata": {
        "id": "tKhG5lI8hnz9"
      },
      "execution_count": null,
      "outputs": []
    },
    {
      "cell_type": "markdown",
      "source": [
        "# Correlation"
      ],
      "metadata": {
        "id": "VaM2FrWXS-8K"
      }
    },
    {
      "cell_type": "code",
      "source": [
        "df.corr()"
      ],
      "metadata": {
        "colab": {
          "base_uri": "https://localhost:8080/",
          "height": 1000
        },
        "id": "SizOT1ln5bS6",
        "outputId": "85bafd1e-5175-478c-af3c-3044b49959de"
      },
      "execution_count": null,
      "outputs": [
        {
          "output_type": "execute_result",
          "data": {
            "text/plain": [
              "            Time        V1        V2        V3        V4        V5        V6  \\\n",
              "Time    1.000000  0.117927 -0.010556 -0.422054 -0.105845  0.173223 -0.063279   \n",
              "V1      0.117927  1.000000  0.006875 -0.008112  0.002257 -0.007036  0.000413   \n",
              "V2     -0.010556  0.006875  1.000000  0.005278 -0.001495  0.005210 -0.000594   \n",
              "V3     -0.422054 -0.008112  0.005278  1.000000  0.002829 -0.006879 -0.001511   \n",
              "V4     -0.105845  0.002257 -0.001495  0.002829  1.000000  0.001744 -0.000880   \n",
              "V5      0.173223 -0.007036  0.005210 -0.006879  0.001744  1.000000 -0.000938   \n",
              "V6     -0.063279  0.000413 -0.000594 -0.001511 -0.000880 -0.000938  1.000000   \n",
              "V7      0.085335 -0.009173  0.007425 -0.011721  0.004657 -0.008709  0.000436   \n",
              "V8     -0.038203 -0.001168  0.002899 -0.001815  0.000890  0.001430  0.003036   \n",
              "V9     -0.007861  0.001828 -0.000274 -0.003579  0.002154 -0.001213 -0.000734   \n",
              "V10     0.031068  0.000815  0.000620 -0.009632  0.002753 -0.006050 -0.002180   \n",
              "V11    -0.248536  0.001028 -0.000633  0.002339 -0.001223  0.000411 -0.000211   \n",
              "V12     0.125500 -0.001524  0.002266 -0.005900  0.003366 -0.002342 -0.001185   \n",
              "V13    -0.065958 -0.000568  0.000680  0.000113  0.000177  0.000019  0.000397   \n",
              "V14    -0.100316 -0.002663  0.002711 -0.003027  0.002801 -0.001000  0.000184   \n",
              "V15    -0.184392 -0.000602  0.001538 -0.001230  0.000572 -0.001171 -0.000470   \n",
              "V16     0.011286 -0.003345  0.004013 -0.004430  0.003346 -0.002373  0.000122   \n",
              "V17    -0.073819 -0.003491  0.003244 -0.008159  0.003655 -0.004466 -0.001716   \n",
              "V18     0.090305 -0.003535  0.002477 -0.003495  0.002325 -0.002685  0.000541   \n",
              "V19     0.029537  0.000919 -0.000358 -0.000016 -0.000560  0.000436  0.000106   \n",
              "V20    -0.051022 -0.001393 -0.001287 -0.002269  0.000318 -0.001185 -0.000181   \n",
              "V21     0.045913  0.002818 -0.004897  0.003500 -0.001034  0.001622 -0.002134   \n",
              "V22     0.143727 -0.001436  0.001237 -0.000275  0.000115 -0.000559  0.001104   \n",
              "V23     0.051474 -0.001330 -0.003855  0.000449  0.000732  0.001183 -0.000755   \n",
              "V24    -0.015954 -0.000723  0.000701 -0.000072 -0.000120  0.000198  0.001202   \n",
              "V25    -0.233262 -0.000222 -0.001569  0.000425  0.000162  0.000069  0.000697   \n",
              "V26    -0.041818 -0.000684  0.000253 -0.000094  0.000777  0.000390 -0.000028   \n",
              "V27    -0.005171 -0.015706  0.007555 -0.007051  0.001322 -0.005798  0.000289   \n",
              "V28    -0.009305 -0.004861  0.001611 -0.000134  0.000231 -0.000820  0.000925   \n",
              "Amount -0.010559 -0.230105 -0.533428 -0.212410  0.099514 -0.387685  0.216389   \n",
              "Class  -0.012359 -0.094486  0.084624 -0.182322  0.129326 -0.087812 -0.043915   \n",
              "\n",
              "              V7        V8        V9  ...       V21       V22       V23  \\\n",
              "Time    0.085335 -0.038203 -0.007861  ...  0.045913  0.143727  0.051474   \n",
              "V1     -0.009173 -0.001168  0.001828  ...  0.002818 -0.001436 -0.001330   \n",
              "V2      0.007425  0.002899 -0.000274  ... -0.004897  0.001237 -0.003855   \n",
              "V3     -0.011721 -0.001815 -0.003579  ...  0.003500 -0.000275  0.000449   \n",
              "V4      0.004657  0.000890  0.002154  ... -0.001034  0.000115  0.000732   \n",
              "V5     -0.008709  0.001430 -0.001213  ...  0.001622 -0.000559  0.001183   \n",
              "V6      0.000436  0.003036 -0.000734  ... -0.002134  0.001104 -0.000755   \n",
              "V7      1.000000 -0.006419 -0.004921  ...  0.009010 -0.002280  0.003303   \n",
              "V8     -0.006419  1.000000  0.001038  ...  0.018892 -0.006156  0.004994   \n",
              "V9     -0.004921  0.001038  1.000000  ...  0.000679  0.000785  0.000677   \n",
              "V10    -0.013617  0.000481 -0.012613  ...  0.003777 -0.000481  0.001917   \n",
              "V11     0.002454  0.004688 -0.000217  ... -0.002760 -0.000150 -0.000037   \n",
              "V12    -0.006153 -0.004414 -0.002385  ...  0.003285  0.000151  0.000486   \n",
              "V13    -0.000170 -0.001381  0.000745  ...  0.000522  0.000016  0.000252   \n",
              "V14    -0.003816 -0.008387  0.001981  ...  0.005633 -0.001906  0.000666   \n",
              "V15    -0.001394  0.001044 -0.000283  ... -0.000271 -0.001197  0.000969   \n",
              "V16    -0.005944 -0.004376 -0.000086  ...  0.004326 -0.000820  0.001209   \n",
              "V17    -0.008794 -0.005576 -0.002318  ...  0.003560 -0.000162  0.000667   \n",
              "V18    -0.004279 -0.001323 -0.000373  ...  0.001629 -0.000533  0.000240   \n",
              "V19     0.000846 -0.000626  0.000247  ...  0.000244  0.001342  0.000381   \n",
              "V20    -0.001192  0.000271 -0.001838  ...  0.005372 -0.001617 -0.001094   \n",
              "V21     0.009010  0.018892  0.000679  ...  1.000000  0.009645 -0.006391   \n",
              "V22    -0.002280 -0.006156  0.000785  ...  0.009645  1.000000  0.001929   \n",
              "V23     0.003303  0.004994  0.000677  ... -0.006391  0.001929  1.000000   \n",
              "V24    -0.000384  0.000113 -0.000103  ...  0.001210 -0.000031  0.000273   \n",
              "V25    -0.000072  0.000011 -0.000275  ... -0.000872  0.000197 -0.000532   \n",
              "V26     0.000624 -0.001407  0.001253  ... -0.000874 -0.001495 -0.000185   \n",
              "V27    -0.004537  0.000613  0.008221  ... -0.005216  0.003037 -0.002028   \n",
              "V28     0.001657 -0.000099  0.005591  ... -0.004436  0.001392 -0.003224   \n",
              "Amount  0.400408 -0.104662 -0.044123  ...  0.108058 -0.064965 -0.112833   \n",
              "Class  -0.172347  0.033068 -0.094021  ...  0.026357  0.004887 -0.006333   \n",
              "\n",
              "             V24       V25       V26       V27       V28    Amount     Class  \n",
              "Time   -0.015954 -0.233262 -0.041818 -0.005171 -0.009305 -0.010559 -0.012359  \n",
              "V1     -0.000723 -0.000222 -0.000684 -0.015706 -0.004861 -0.230105 -0.094486  \n",
              "V2      0.000701 -0.001569  0.000253  0.007555  0.001611 -0.533428  0.084624  \n",
              "V3     -0.000072  0.000425 -0.000094 -0.007051 -0.000134 -0.212410 -0.182322  \n",
              "V4     -0.000120  0.000162  0.000777  0.001322  0.000231  0.099514  0.129326  \n",
              "V5      0.000198  0.000069  0.000390 -0.005798 -0.000820 -0.387685 -0.087812  \n",
              "V6      0.001202  0.000697 -0.000028  0.000289  0.000925  0.216389 -0.043915  \n",
              "V7     -0.000384 -0.000072  0.000624 -0.004537  0.001657  0.400408 -0.172347  \n",
              "V8      0.000113  0.000011 -0.001407  0.000613 -0.000099 -0.104662  0.033068  \n",
              "V9     -0.000103 -0.000275  0.001253  0.008221  0.005591 -0.044123 -0.094021  \n",
              "V10     0.000154 -0.000565  0.001089  0.010769  0.009159 -0.102255 -0.206971  \n",
              "V11     0.000080  0.000047 -0.000204  0.001987  0.002562 -0.000015  0.149067  \n",
              "V12     0.000588 -0.000181 -0.000138 -0.000929 -0.000613 -0.009254 -0.250711  \n",
              "V13    -0.000049  0.000248 -0.000101 -0.001577 -0.000604  0.005209 -0.003897  \n",
              "V14    -0.000026  0.000155 -0.000702 -0.004556 -0.004664  0.034122 -0.293375  \n",
              "V15     0.000113  0.000445 -0.002034 -0.000641  0.000858 -0.003265 -0.003300  \n",
              "V16    -0.000482  0.000215 -0.001245 -0.003974 -0.001629 -0.004488 -0.187186  \n",
              "V17     0.001006 -0.000685  0.000157 -0.003421 -0.002703  0.007730 -0.313498  \n",
              "V18    -0.000710 -0.000559 -0.000596 -0.004231 -0.001256  0.035775 -0.105340  \n",
              "V19    -0.000112 -0.000084  0.000856 -0.000544  0.000353 -0.055994  0.033631  \n",
              "V20    -0.000303 -0.000643 -0.000310 -0.000049  0.002671  0.340729  0.021486  \n",
              "V21     0.001210 -0.000872 -0.000874 -0.005216 -0.004436  0.108058  0.026357  \n",
              "V22    -0.000031  0.000197 -0.001495  0.003037  0.001392 -0.064965  0.004887  \n",
              "V23     0.000273 -0.000532 -0.000185 -0.002028 -0.003224 -0.112833 -0.006333  \n",
              "V24     1.000000 -0.000188  0.000568 -0.000885  0.000322  0.005055 -0.007210  \n",
              "V25    -0.000188  1.000000  0.000048 -0.001339 -0.000565 -0.047596  0.003202  \n",
              "V26     0.000568  0.000048  1.000000 -0.003294 -0.000999 -0.003425  0.004265  \n",
              "V27    -0.000885 -0.001339 -0.003294  1.000000 -0.013950  0.027922  0.021892  \n",
              "V28     0.000322 -0.000565 -0.000999 -0.013950  1.000000  0.010143  0.009682  \n",
              "Amount  0.005055 -0.047596 -0.003425  0.027922  0.010143  1.000000  0.005777  \n",
              "Class  -0.007210  0.003202  0.004265  0.021892  0.009682  0.005777  1.000000  \n",
              "\n",
              "[31 rows x 31 columns]"
            ],
            "text/html": [
              "\n",
              "  <div id=\"df-c2f0775a-d9c1-4c15-95fe-9fc55295d7f4\" class=\"colab-df-container\">\n",
              "    <div>\n",
              "<style scoped>\n",
              "    .dataframe tbody tr th:only-of-type {\n",
              "        vertical-align: middle;\n",
              "    }\n",
              "\n",
              "    .dataframe tbody tr th {\n",
              "        vertical-align: top;\n",
              "    }\n",
              "\n",
              "    .dataframe thead th {\n",
              "        text-align: right;\n",
              "    }\n",
              "</style>\n",
              "<table border=\"1\" class=\"dataframe\">\n",
              "  <thead>\n",
              "    <tr style=\"text-align: right;\">\n",
              "      <th></th>\n",
              "      <th>Time</th>\n",
              "      <th>V1</th>\n",
              "      <th>V2</th>\n",
              "      <th>V3</th>\n",
              "      <th>V4</th>\n",
              "      <th>V5</th>\n",
              "      <th>V6</th>\n",
              "      <th>V7</th>\n",
              "      <th>V8</th>\n",
              "      <th>V9</th>\n",
              "      <th>...</th>\n",
              "      <th>V21</th>\n",
              "      <th>V22</th>\n",
              "      <th>V23</th>\n",
              "      <th>V24</th>\n",
              "      <th>V25</th>\n",
              "      <th>V26</th>\n",
              "      <th>V27</th>\n",
              "      <th>V28</th>\n",
              "      <th>Amount</th>\n",
              "      <th>Class</th>\n",
              "    </tr>\n",
              "  </thead>\n",
              "  <tbody>\n",
              "    <tr>\n",
              "      <th>Time</th>\n",
              "      <td>1.000000</td>\n",
              "      <td>0.117927</td>\n",
              "      <td>-0.010556</td>\n",
              "      <td>-0.422054</td>\n",
              "      <td>-0.105845</td>\n",
              "      <td>0.173223</td>\n",
              "      <td>-0.063279</td>\n",
              "      <td>0.085335</td>\n",
              "      <td>-0.038203</td>\n",
              "      <td>-0.007861</td>\n",
              "      <td>...</td>\n",
              "      <td>0.045913</td>\n",
              "      <td>0.143727</td>\n",
              "      <td>0.051474</td>\n",
              "      <td>-0.015954</td>\n",
              "      <td>-0.233262</td>\n",
              "      <td>-0.041818</td>\n",
              "      <td>-0.005171</td>\n",
              "      <td>-0.009305</td>\n",
              "      <td>-0.010559</td>\n",
              "      <td>-0.012359</td>\n",
              "    </tr>\n",
              "    <tr>\n",
              "      <th>V1</th>\n",
              "      <td>0.117927</td>\n",
              "      <td>1.000000</td>\n",
              "      <td>0.006875</td>\n",
              "      <td>-0.008112</td>\n",
              "      <td>0.002257</td>\n",
              "      <td>-0.007036</td>\n",
              "      <td>0.000413</td>\n",
              "      <td>-0.009173</td>\n",
              "      <td>-0.001168</td>\n",
              "      <td>0.001828</td>\n",
              "      <td>...</td>\n",
              "      <td>0.002818</td>\n",
              "      <td>-0.001436</td>\n",
              "      <td>-0.001330</td>\n",
              "      <td>-0.000723</td>\n",
              "      <td>-0.000222</td>\n",
              "      <td>-0.000684</td>\n",
              "      <td>-0.015706</td>\n",
              "      <td>-0.004861</td>\n",
              "      <td>-0.230105</td>\n",
              "      <td>-0.094486</td>\n",
              "    </tr>\n",
              "    <tr>\n",
              "      <th>V2</th>\n",
              "      <td>-0.010556</td>\n",
              "      <td>0.006875</td>\n",
              "      <td>1.000000</td>\n",
              "      <td>0.005278</td>\n",
              "      <td>-0.001495</td>\n",
              "      <td>0.005210</td>\n",
              "      <td>-0.000594</td>\n",
              "      <td>0.007425</td>\n",
              "      <td>0.002899</td>\n",
              "      <td>-0.000274</td>\n",
              "      <td>...</td>\n",
              "      <td>-0.004897</td>\n",
              "      <td>0.001237</td>\n",
              "      <td>-0.003855</td>\n",
              "      <td>0.000701</td>\n",
              "      <td>-0.001569</td>\n",
              "      <td>0.000253</td>\n",
              "      <td>0.007555</td>\n",
              "      <td>0.001611</td>\n",
              "      <td>-0.533428</td>\n",
              "      <td>0.084624</td>\n",
              "    </tr>\n",
              "    <tr>\n",
              "      <th>V3</th>\n",
              "      <td>-0.422054</td>\n",
              "      <td>-0.008112</td>\n",
              "      <td>0.005278</td>\n",
              "      <td>1.000000</td>\n",
              "      <td>0.002829</td>\n",
              "      <td>-0.006879</td>\n",
              "      <td>-0.001511</td>\n",
              "      <td>-0.011721</td>\n",
              "      <td>-0.001815</td>\n",
              "      <td>-0.003579</td>\n",
              "      <td>...</td>\n",
              "      <td>0.003500</td>\n",
              "      <td>-0.000275</td>\n",
              "      <td>0.000449</td>\n",
              "      <td>-0.000072</td>\n",
              "      <td>0.000425</td>\n",
              "      <td>-0.000094</td>\n",
              "      <td>-0.007051</td>\n",
              "      <td>-0.000134</td>\n",
              "      <td>-0.212410</td>\n",
              "      <td>-0.182322</td>\n",
              "    </tr>\n",
              "    <tr>\n",
              "      <th>V4</th>\n",
              "      <td>-0.105845</td>\n",
              "      <td>0.002257</td>\n",
              "      <td>-0.001495</td>\n",
              "      <td>0.002829</td>\n",
              "      <td>1.000000</td>\n",
              "      <td>0.001744</td>\n",
              "      <td>-0.000880</td>\n",
              "      <td>0.004657</td>\n",
              "      <td>0.000890</td>\n",
              "      <td>0.002154</td>\n",
              "      <td>...</td>\n",
              "      <td>-0.001034</td>\n",
              "      <td>0.000115</td>\n",
              "      <td>0.000732</td>\n",
              "      <td>-0.000120</td>\n",
              "      <td>0.000162</td>\n",
              "      <td>0.000777</td>\n",
              "      <td>0.001322</td>\n",
              "      <td>0.000231</td>\n",
              "      <td>0.099514</td>\n",
              "      <td>0.129326</td>\n",
              "    </tr>\n",
              "    <tr>\n",
              "      <th>V5</th>\n",
              "      <td>0.173223</td>\n",
              "      <td>-0.007036</td>\n",
              "      <td>0.005210</td>\n",
              "      <td>-0.006879</td>\n",
              "      <td>0.001744</td>\n",
              "      <td>1.000000</td>\n",
              "      <td>-0.000938</td>\n",
              "      <td>-0.008709</td>\n",
              "      <td>0.001430</td>\n",
              "      <td>-0.001213</td>\n",
              "      <td>...</td>\n",
              "      <td>0.001622</td>\n",
              "      <td>-0.000559</td>\n",
              "      <td>0.001183</td>\n",
              "      <td>0.000198</td>\n",
              "      <td>0.000069</td>\n",
              "      <td>0.000390</td>\n",
              "      <td>-0.005798</td>\n",
              "      <td>-0.000820</td>\n",
              "      <td>-0.387685</td>\n",
              "      <td>-0.087812</td>\n",
              "    </tr>\n",
              "    <tr>\n",
              "      <th>V6</th>\n",
              "      <td>-0.063279</td>\n",
              "      <td>0.000413</td>\n",
              "      <td>-0.000594</td>\n",
              "      <td>-0.001511</td>\n",
              "      <td>-0.000880</td>\n",
              "      <td>-0.000938</td>\n",
              "      <td>1.000000</td>\n",
              "      <td>0.000436</td>\n",
              "      <td>0.003036</td>\n",
              "      <td>-0.000734</td>\n",
              "      <td>...</td>\n",
              "      <td>-0.002134</td>\n",
              "      <td>0.001104</td>\n",
              "      <td>-0.000755</td>\n",
              "      <td>0.001202</td>\n",
              "      <td>0.000697</td>\n",
              "      <td>-0.000028</td>\n",
              "      <td>0.000289</td>\n",
              "      <td>0.000925</td>\n",
              "      <td>0.216389</td>\n",
              "      <td>-0.043915</td>\n",
              "    </tr>\n",
              "    <tr>\n",
              "      <th>V7</th>\n",
              "      <td>0.085335</td>\n",
              "      <td>-0.009173</td>\n",
              "      <td>0.007425</td>\n",
              "      <td>-0.011721</td>\n",
              "      <td>0.004657</td>\n",
              "      <td>-0.008709</td>\n",
              "      <td>0.000436</td>\n",
              "      <td>1.000000</td>\n",
              "      <td>-0.006419</td>\n",
              "      <td>-0.004921</td>\n",
              "      <td>...</td>\n",
              "      <td>0.009010</td>\n",
              "      <td>-0.002280</td>\n",
              "      <td>0.003303</td>\n",
              "      <td>-0.000384</td>\n",
              "      <td>-0.000072</td>\n",
              "      <td>0.000624</td>\n",
              "      <td>-0.004537</td>\n",
              "      <td>0.001657</td>\n",
              "      <td>0.400408</td>\n",
              "      <td>-0.172347</td>\n",
              "    </tr>\n",
              "    <tr>\n",
              "      <th>V8</th>\n",
              "      <td>-0.038203</td>\n",
              "      <td>-0.001168</td>\n",
              "      <td>0.002899</td>\n",
              "      <td>-0.001815</td>\n",
              "      <td>0.000890</td>\n",
              "      <td>0.001430</td>\n",
              "      <td>0.003036</td>\n",
              "      <td>-0.006419</td>\n",
              "      <td>1.000000</td>\n",
              "      <td>0.001038</td>\n",
              "      <td>...</td>\n",
              "      <td>0.018892</td>\n",
              "      <td>-0.006156</td>\n",
              "      <td>0.004994</td>\n",
              "      <td>0.000113</td>\n",
              "      <td>0.000011</td>\n",
              "      <td>-0.001407</td>\n",
              "      <td>0.000613</td>\n",
              "      <td>-0.000099</td>\n",
              "      <td>-0.104662</td>\n",
              "      <td>0.033068</td>\n",
              "    </tr>\n",
              "    <tr>\n",
              "      <th>V9</th>\n",
              "      <td>-0.007861</td>\n",
              "      <td>0.001828</td>\n",
              "      <td>-0.000274</td>\n",
              "      <td>-0.003579</td>\n",
              "      <td>0.002154</td>\n",
              "      <td>-0.001213</td>\n",
              "      <td>-0.000734</td>\n",
              "      <td>-0.004921</td>\n",
              "      <td>0.001038</td>\n",
              "      <td>1.000000</td>\n",
              "      <td>...</td>\n",
              "      <td>0.000679</td>\n",
              "      <td>0.000785</td>\n",
              "      <td>0.000677</td>\n",
              "      <td>-0.000103</td>\n",
              "      <td>-0.000275</td>\n",
              "      <td>0.001253</td>\n",
              "      <td>0.008221</td>\n",
              "      <td>0.005591</td>\n",
              "      <td>-0.044123</td>\n",
              "      <td>-0.094021</td>\n",
              "    </tr>\n",
              "    <tr>\n",
              "      <th>V10</th>\n",
              "      <td>0.031068</td>\n",
              "      <td>0.000815</td>\n",
              "      <td>0.000620</td>\n",
              "      <td>-0.009632</td>\n",
              "      <td>0.002753</td>\n",
              "      <td>-0.006050</td>\n",
              "      <td>-0.002180</td>\n",
              "      <td>-0.013617</td>\n",
              "      <td>0.000481</td>\n",
              "      <td>-0.012613</td>\n",
              "      <td>...</td>\n",
              "      <td>0.003777</td>\n",
              "      <td>-0.000481</td>\n",
              "      <td>0.001917</td>\n",
              "      <td>0.000154</td>\n",
              "      <td>-0.000565</td>\n",
              "      <td>0.001089</td>\n",
              "      <td>0.010769</td>\n",
              "      <td>0.009159</td>\n",
              "      <td>-0.102255</td>\n",
              "      <td>-0.206971</td>\n",
              "    </tr>\n",
              "    <tr>\n",
              "      <th>V11</th>\n",
              "      <td>-0.248536</td>\n",
              "      <td>0.001028</td>\n",
              "      <td>-0.000633</td>\n",
              "      <td>0.002339</td>\n",
              "      <td>-0.001223</td>\n",
              "      <td>0.000411</td>\n",
              "      <td>-0.000211</td>\n",
              "      <td>0.002454</td>\n",
              "      <td>0.004688</td>\n",
              "      <td>-0.000217</td>\n",
              "      <td>...</td>\n",
              "      <td>-0.002760</td>\n",
              "      <td>-0.000150</td>\n",
              "      <td>-0.000037</td>\n",
              "      <td>0.000080</td>\n",
              "      <td>0.000047</td>\n",
              "      <td>-0.000204</td>\n",
              "      <td>0.001987</td>\n",
              "      <td>0.002562</td>\n",
              "      <td>-0.000015</td>\n",
              "      <td>0.149067</td>\n",
              "    </tr>\n",
              "    <tr>\n",
              "      <th>V12</th>\n",
              "      <td>0.125500</td>\n",
              "      <td>-0.001524</td>\n",
              "      <td>0.002266</td>\n",
              "      <td>-0.005900</td>\n",
              "      <td>0.003366</td>\n",
              "      <td>-0.002342</td>\n",
              "      <td>-0.001185</td>\n",
              "      <td>-0.006153</td>\n",
              "      <td>-0.004414</td>\n",
              "      <td>-0.002385</td>\n",
              "      <td>...</td>\n",
              "      <td>0.003285</td>\n",
              "      <td>0.000151</td>\n",
              "      <td>0.000486</td>\n",
              "      <td>0.000588</td>\n",
              "      <td>-0.000181</td>\n",
              "      <td>-0.000138</td>\n",
              "      <td>-0.000929</td>\n",
              "      <td>-0.000613</td>\n",
              "      <td>-0.009254</td>\n",
              "      <td>-0.250711</td>\n",
              "    </tr>\n",
              "    <tr>\n",
              "      <th>V13</th>\n",
              "      <td>-0.065958</td>\n",
              "      <td>-0.000568</td>\n",
              "      <td>0.000680</td>\n",
              "      <td>0.000113</td>\n",
              "      <td>0.000177</td>\n",
              "      <td>0.000019</td>\n",
              "      <td>0.000397</td>\n",
              "      <td>-0.000170</td>\n",
              "      <td>-0.001381</td>\n",
              "      <td>0.000745</td>\n",
              "      <td>...</td>\n",
              "      <td>0.000522</td>\n",
              "      <td>0.000016</td>\n",
              "      <td>0.000252</td>\n",
              "      <td>-0.000049</td>\n",
              "      <td>0.000248</td>\n",
              "      <td>-0.000101</td>\n",
              "      <td>-0.001577</td>\n",
              "      <td>-0.000604</td>\n",
              "      <td>0.005209</td>\n",
              "      <td>-0.003897</td>\n",
              "    </tr>\n",
              "    <tr>\n",
              "      <th>V14</th>\n",
              "      <td>-0.100316</td>\n",
              "      <td>-0.002663</td>\n",
              "      <td>0.002711</td>\n",
              "      <td>-0.003027</td>\n",
              "      <td>0.002801</td>\n",
              "      <td>-0.001000</td>\n",
              "      <td>0.000184</td>\n",
              "      <td>-0.003816</td>\n",
              "      <td>-0.008387</td>\n",
              "      <td>0.001981</td>\n",
              "      <td>...</td>\n",
              "      <td>0.005633</td>\n",
              "      <td>-0.001906</td>\n",
              "      <td>0.000666</td>\n",
              "      <td>-0.000026</td>\n",
              "      <td>0.000155</td>\n",
              "      <td>-0.000702</td>\n",
              "      <td>-0.004556</td>\n",
              "      <td>-0.004664</td>\n",
              "      <td>0.034122</td>\n",
              "      <td>-0.293375</td>\n",
              "    </tr>\n",
              "    <tr>\n",
              "      <th>V15</th>\n",
              "      <td>-0.184392</td>\n",
              "      <td>-0.000602</td>\n",
              "      <td>0.001538</td>\n",
              "      <td>-0.001230</td>\n",
              "      <td>0.000572</td>\n",
              "      <td>-0.001171</td>\n",
              "      <td>-0.000470</td>\n",
              "      <td>-0.001394</td>\n",
              "      <td>0.001044</td>\n",
              "      <td>-0.000283</td>\n",
              "      <td>...</td>\n",
              "      <td>-0.000271</td>\n",
              "      <td>-0.001197</td>\n",
              "      <td>0.000969</td>\n",
              "      <td>0.000113</td>\n",
              "      <td>0.000445</td>\n",
              "      <td>-0.002034</td>\n",
              "      <td>-0.000641</td>\n",
              "      <td>0.000858</td>\n",
              "      <td>-0.003265</td>\n",
              "      <td>-0.003300</td>\n",
              "    </tr>\n",
              "    <tr>\n",
              "      <th>V16</th>\n",
              "      <td>0.011286</td>\n",
              "      <td>-0.003345</td>\n",
              "      <td>0.004013</td>\n",
              "      <td>-0.004430</td>\n",
              "      <td>0.003346</td>\n",
              "      <td>-0.002373</td>\n",
              "      <td>0.000122</td>\n",
              "      <td>-0.005944</td>\n",
              "      <td>-0.004376</td>\n",
              "      <td>-0.000086</td>\n",
              "      <td>...</td>\n",
              "      <td>0.004326</td>\n",
              "      <td>-0.000820</td>\n",
              "      <td>0.001209</td>\n",
              "      <td>-0.000482</td>\n",
              "      <td>0.000215</td>\n",
              "      <td>-0.001245</td>\n",
              "      <td>-0.003974</td>\n",
              "      <td>-0.001629</td>\n",
              "      <td>-0.004488</td>\n",
              "      <td>-0.187186</td>\n",
              "    </tr>\n",
              "    <tr>\n",
              "      <th>V17</th>\n",
              "      <td>-0.073819</td>\n",
              "      <td>-0.003491</td>\n",
              "      <td>0.003244</td>\n",
              "      <td>-0.008159</td>\n",
              "      <td>0.003655</td>\n",
              "      <td>-0.004466</td>\n",
              "      <td>-0.001716</td>\n",
              "      <td>-0.008794</td>\n",
              "      <td>-0.005576</td>\n",
              "      <td>-0.002318</td>\n",
              "      <td>...</td>\n",
              "      <td>0.003560</td>\n",
              "      <td>-0.000162</td>\n",
              "      <td>0.000667</td>\n",
              "      <td>0.001006</td>\n",
              "      <td>-0.000685</td>\n",
              "      <td>0.000157</td>\n",
              "      <td>-0.003421</td>\n",
              "      <td>-0.002703</td>\n",
              "      <td>0.007730</td>\n",
              "      <td>-0.313498</td>\n",
              "    </tr>\n",
              "    <tr>\n",
              "      <th>V18</th>\n",
              "      <td>0.090305</td>\n",
              "      <td>-0.003535</td>\n",
              "      <td>0.002477</td>\n",
              "      <td>-0.003495</td>\n",
              "      <td>0.002325</td>\n",
              "      <td>-0.002685</td>\n",
              "      <td>0.000541</td>\n",
              "      <td>-0.004279</td>\n",
              "      <td>-0.001323</td>\n",
              "      <td>-0.000373</td>\n",
              "      <td>...</td>\n",
              "      <td>0.001629</td>\n",
              "      <td>-0.000533</td>\n",
              "      <td>0.000240</td>\n",
              "      <td>-0.000710</td>\n",
              "      <td>-0.000559</td>\n",
              "      <td>-0.000596</td>\n",
              "      <td>-0.004231</td>\n",
              "      <td>-0.001256</td>\n",
              "      <td>0.035775</td>\n",
              "      <td>-0.105340</td>\n",
              "    </tr>\n",
              "    <tr>\n",
              "      <th>V19</th>\n",
              "      <td>0.029537</td>\n",
              "      <td>0.000919</td>\n",
              "      <td>-0.000358</td>\n",
              "      <td>-0.000016</td>\n",
              "      <td>-0.000560</td>\n",
              "      <td>0.000436</td>\n",
              "      <td>0.000106</td>\n",
              "      <td>0.000846</td>\n",
              "      <td>-0.000626</td>\n",
              "      <td>0.000247</td>\n",
              "      <td>...</td>\n",
              "      <td>0.000244</td>\n",
              "      <td>0.001342</td>\n",
              "      <td>0.000381</td>\n",
              "      <td>-0.000112</td>\n",
              "      <td>-0.000084</td>\n",
              "      <td>0.000856</td>\n",
              "      <td>-0.000544</td>\n",
              "      <td>0.000353</td>\n",
              "      <td>-0.055994</td>\n",
              "      <td>0.033631</td>\n",
              "    </tr>\n",
              "    <tr>\n",
              "      <th>V20</th>\n",
              "      <td>-0.051022</td>\n",
              "      <td>-0.001393</td>\n",
              "      <td>-0.001287</td>\n",
              "      <td>-0.002269</td>\n",
              "      <td>0.000318</td>\n",
              "      <td>-0.001185</td>\n",
              "      <td>-0.000181</td>\n",
              "      <td>-0.001192</td>\n",
              "      <td>0.000271</td>\n",
              "      <td>-0.001838</td>\n",
              "      <td>...</td>\n",
              "      <td>0.005372</td>\n",
              "      <td>-0.001617</td>\n",
              "      <td>-0.001094</td>\n",
              "      <td>-0.000303</td>\n",
              "      <td>-0.000643</td>\n",
              "      <td>-0.000310</td>\n",
              "      <td>-0.000049</td>\n",
              "      <td>0.002671</td>\n",
              "      <td>0.340729</td>\n",
              "      <td>0.021486</td>\n",
              "    </tr>\n",
              "    <tr>\n",
              "      <th>V21</th>\n",
              "      <td>0.045913</td>\n",
              "      <td>0.002818</td>\n",
              "      <td>-0.004897</td>\n",
              "      <td>0.003500</td>\n",
              "      <td>-0.001034</td>\n",
              "      <td>0.001622</td>\n",
              "      <td>-0.002134</td>\n",
              "      <td>0.009010</td>\n",
              "      <td>0.018892</td>\n",
              "      <td>0.000679</td>\n",
              "      <td>...</td>\n",
              "      <td>1.000000</td>\n",
              "      <td>0.009645</td>\n",
              "      <td>-0.006391</td>\n",
              "      <td>0.001210</td>\n",
              "      <td>-0.000872</td>\n",
              "      <td>-0.000874</td>\n",
              "      <td>-0.005216</td>\n",
              "      <td>-0.004436</td>\n",
              "      <td>0.108058</td>\n",
              "      <td>0.026357</td>\n",
              "    </tr>\n",
              "    <tr>\n",
              "      <th>V22</th>\n",
              "      <td>0.143727</td>\n",
              "      <td>-0.001436</td>\n",
              "      <td>0.001237</td>\n",
              "      <td>-0.000275</td>\n",
              "      <td>0.000115</td>\n",
              "      <td>-0.000559</td>\n",
              "      <td>0.001104</td>\n",
              "      <td>-0.002280</td>\n",
              "      <td>-0.006156</td>\n",
              "      <td>0.000785</td>\n",
              "      <td>...</td>\n",
              "      <td>0.009645</td>\n",
              "      <td>1.000000</td>\n",
              "      <td>0.001929</td>\n",
              "      <td>-0.000031</td>\n",
              "      <td>0.000197</td>\n",
              "      <td>-0.001495</td>\n",
              "      <td>0.003037</td>\n",
              "      <td>0.001392</td>\n",
              "      <td>-0.064965</td>\n",
              "      <td>0.004887</td>\n",
              "    </tr>\n",
              "    <tr>\n",
              "      <th>V23</th>\n",
              "      <td>0.051474</td>\n",
              "      <td>-0.001330</td>\n",
              "      <td>-0.003855</td>\n",
              "      <td>0.000449</td>\n",
              "      <td>0.000732</td>\n",
              "      <td>0.001183</td>\n",
              "      <td>-0.000755</td>\n",
              "      <td>0.003303</td>\n",
              "      <td>0.004994</td>\n",
              "      <td>0.000677</td>\n",
              "      <td>...</td>\n",
              "      <td>-0.006391</td>\n",
              "      <td>0.001929</td>\n",
              "      <td>1.000000</td>\n",
              "      <td>0.000273</td>\n",
              "      <td>-0.000532</td>\n",
              "      <td>-0.000185</td>\n",
              "      <td>-0.002028</td>\n",
              "      <td>-0.003224</td>\n",
              "      <td>-0.112833</td>\n",
              "      <td>-0.006333</td>\n",
              "    </tr>\n",
              "    <tr>\n",
              "      <th>V24</th>\n",
              "      <td>-0.015954</td>\n",
              "      <td>-0.000723</td>\n",
              "      <td>0.000701</td>\n",
              "      <td>-0.000072</td>\n",
              "      <td>-0.000120</td>\n",
              "      <td>0.000198</td>\n",
              "      <td>0.001202</td>\n",
              "      <td>-0.000384</td>\n",
              "      <td>0.000113</td>\n",
              "      <td>-0.000103</td>\n",
              "      <td>...</td>\n",
              "      <td>0.001210</td>\n",
              "      <td>-0.000031</td>\n",
              "      <td>0.000273</td>\n",
              "      <td>1.000000</td>\n",
              "      <td>-0.000188</td>\n",
              "      <td>0.000568</td>\n",
              "      <td>-0.000885</td>\n",
              "      <td>0.000322</td>\n",
              "      <td>0.005055</td>\n",
              "      <td>-0.007210</td>\n",
              "    </tr>\n",
              "    <tr>\n",
              "      <th>V25</th>\n",
              "      <td>-0.233262</td>\n",
              "      <td>-0.000222</td>\n",
              "      <td>-0.001569</td>\n",
              "      <td>0.000425</td>\n",
              "      <td>0.000162</td>\n",
              "      <td>0.000069</td>\n",
              "      <td>0.000697</td>\n",
              "      <td>-0.000072</td>\n",
              "      <td>0.000011</td>\n",
              "      <td>-0.000275</td>\n",
              "      <td>...</td>\n",
              "      <td>-0.000872</td>\n",
              "      <td>0.000197</td>\n",
              "      <td>-0.000532</td>\n",
              "      <td>-0.000188</td>\n",
              "      <td>1.000000</td>\n",
              "      <td>0.000048</td>\n",
              "      <td>-0.001339</td>\n",
              "      <td>-0.000565</td>\n",
              "      <td>-0.047596</td>\n",
              "      <td>0.003202</td>\n",
              "    </tr>\n",
              "    <tr>\n",
              "      <th>V26</th>\n",
              "      <td>-0.041818</td>\n",
              "      <td>-0.000684</td>\n",
              "      <td>0.000253</td>\n",
              "      <td>-0.000094</td>\n",
              "      <td>0.000777</td>\n",
              "      <td>0.000390</td>\n",
              "      <td>-0.000028</td>\n",
              "      <td>0.000624</td>\n",
              "      <td>-0.001407</td>\n",
              "      <td>0.001253</td>\n",
              "      <td>...</td>\n",
              "      <td>-0.000874</td>\n",
              "      <td>-0.001495</td>\n",
              "      <td>-0.000185</td>\n",
              "      <td>0.000568</td>\n",
              "      <td>0.000048</td>\n",
              "      <td>1.000000</td>\n",
              "      <td>-0.003294</td>\n",
              "      <td>-0.000999</td>\n",
              "      <td>-0.003425</td>\n",
              "      <td>0.004265</td>\n",
              "    </tr>\n",
              "    <tr>\n",
              "      <th>V27</th>\n",
              "      <td>-0.005171</td>\n",
              "      <td>-0.015706</td>\n",
              "      <td>0.007555</td>\n",
              "      <td>-0.007051</td>\n",
              "      <td>0.001322</td>\n",
              "      <td>-0.005798</td>\n",
              "      <td>0.000289</td>\n",
              "      <td>-0.004537</td>\n",
              "      <td>0.000613</td>\n",
              "      <td>0.008221</td>\n",
              "      <td>...</td>\n",
              "      <td>-0.005216</td>\n",
              "      <td>0.003037</td>\n",
              "      <td>-0.002028</td>\n",
              "      <td>-0.000885</td>\n",
              "      <td>-0.001339</td>\n",
              "      <td>-0.003294</td>\n",
              "      <td>1.000000</td>\n",
              "      <td>-0.013950</td>\n",
              "      <td>0.027922</td>\n",
              "      <td>0.021892</td>\n",
              "    </tr>\n",
              "    <tr>\n",
              "      <th>V28</th>\n",
              "      <td>-0.009305</td>\n",
              "      <td>-0.004861</td>\n",
              "      <td>0.001611</td>\n",
              "      <td>-0.000134</td>\n",
              "      <td>0.000231</td>\n",
              "      <td>-0.000820</td>\n",
              "      <td>0.000925</td>\n",
              "      <td>0.001657</td>\n",
              "      <td>-0.000099</td>\n",
              "      <td>0.005591</td>\n",
              "      <td>...</td>\n",
              "      <td>-0.004436</td>\n",
              "      <td>0.001392</td>\n",
              "      <td>-0.003224</td>\n",
              "      <td>0.000322</td>\n",
              "      <td>-0.000565</td>\n",
              "      <td>-0.000999</td>\n",
              "      <td>-0.013950</td>\n",
              "      <td>1.000000</td>\n",
              "      <td>0.010143</td>\n",
              "      <td>0.009682</td>\n",
              "    </tr>\n",
              "    <tr>\n",
              "      <th>Amount</th>\n",
              "      <td>-0.010559</td>\n",
              "      <td>-0.230105</td>\n",
              "      <td>-0.533428</td>\n",
              "      <td>-0.212410</td>\n",
              "      <td>0.099514</td>\n",
              "      <td>-0.387685</td>\n",
              "      <td>0.216389</td>\n",
              "      <td>0.400408</td>\n",
              "      <td>-0.104662</td>\n",
              "      <td>-0.044123</td>\n",
              "      <td>...</td>\n",
              "      <td>0.108058</td>\n",
              "      <td>-0.064965</td>\n",
              "      <td>-0.112833</td>\n",
              "      <td>0.005055</td>\n",
              "      <td>-0.047596</td>\n",
              "      <td>-0.003425</td>\n",
              "      <td>0.027922</td>\n",
              "      <td>0.010143</td>\n",
              "      <td>1.000000</td>\n",
              "      <td>0.005777</td>\n",
              "    </tr>\n",
              "    <tr>\n",
              "      <th>Class</th>\n",
              "      <td>-0.012359</td>\n",
              "      <td>-0.094486</td>\n",
              "      <td>0.084624</td>\n",
              "      <td>-0.182322</td>\n",
              "      <td>0.129326</td>\n",
              "      <td>-0.087812</td>\n",
              "      <td>-0.043915</td>\n",
              "      <td>-0.172347</td>\n",
              "      <td>0.033068</td>\n",
              "      <td>-0.094021</td>\n",
              "      <td>...</td>\n",
              "      <td>0.026357</td>\n",
              "      <td>0.004887</td>\n",
              "      <td>-0.006333</td>\n",
              "      <td>-0.007210</td>\n",
              "      <td>0.003202</td>\n",
              "      <td>0.004265</td>\n",
              "      <td>0.021892</td>\n",
              "      <td>0.009682</td>\n",
              "      <td>0.005777</td>\n",
              "      <td>1.000000</td>\n",
              "    </tr>\n",
              "  </tbody>\n",
              "</table>\n",
              "<p>31 rows × 31 columns</p>\n",
              "</div>\n",
              "    <div class=\"colab-df-buttons\">\n",
              "\n",
              "  <div class=\"colab-df-container\">\n",
              "    <button class=\"colab-df-convert\" onclick=\"convertToInteractive('df-c2f0775a-d9c1-4c15-95fe-9fc55295d7f4')\"\n",
              "            title=\"Convert this dataframe to an interactive table.\"\n",
              "            style=\"display:none;\">\n",
              "\n",
              "  <svg xmlns=\"http://www.w3.org/2000/svg\" height=\"24px\" viewBox=\"0 -960 960 960\">\n",
              "    <path d=\"M120-120v-720h720v720H120Zm60-500h600v-160H180v160Zm220 220h160v-160H400v160Zm0 220h160v-160H400v160ZM180-400h160v-160H180v160Zm440 0h160v-160H620v160ZM180-180h160v-160H180v160Zm440 0h160v-160H620v160Z\"/>\n",
              "  </svg>\n",
              "    </button>\n",
              "\n",
              "  <style>\n",
              "    .colab-df-container {\n",
              "      display:flex;\n",
              "      gap: 12px;\n",
              "    }\n",
              "\n",
              "    .colab-df-convert {\n",
              "      background-color: #E8F0FE;\n",
              "      border: none;\n",
              "      border-radius: 50%;\n",
              "      cursor: pointer;\n",
              "      display: none;\n",
              "      fill: #1967D2;\n",
              "      height: 32px;\n",
              "      padding: 0 0 0 0;\n",
              "      width: 32px;\n",
              "    }\n",
              "\n",
              "    .colab-df-convert:hover {\n",
              "      background-color: #E2EBFA;\n",
              "      box-shadow: 0px 1px 2px rgba(60, 64, 67, 0.3), 0px 1px 3px 1px rgba(60, 64, 67, 0.15);\n",
              "      fill: #174EA6;\n",
              "    }\n",
              "\n",
              "    .colab-df-buttons div {\n",
              "      margin-bottom: 4px;\n",
              "    }\n",
              "\n",
              "    [theme=dark] .colab-df-convert {\n",
              "      background-color: #3B4455;\n",
              "      fill: #D2E3FC;\n",
              "    }\n",
              "\n",
              "    [theme=dark] .colab-df-convert:hover {\n",
              "      background-color: #434B5C;\n",
              "      box-shadow: 0px 1px 3px 1px rgba(0, 0, 0, 0.15);\n",
              "      filter: drop-shadow(0px 1px 2px rgba(0, 0, 0, 0.3));\n",
              "      fill: #FFFFFF;\n",
              "    }\n",
              "  </style>\n",
              "\n",
              "    <script>\n",
              "      const buttonEl =\n",
              "        document.querySelector('#df-c2f0775a-d9c1-4c15-95fe-9fc55295d7f4 button.colab-df-convert');\n",
              "      buttonEl.style.display =\n",
              "        google.colab.kernel.accessAllowed ? 'block' : 'none';\n",
              "\n",
              "      async function convertToInteractive(key) {\n",
              "        const element = document.querySelector('#df-c2f0775a-d9c1-4c15-95fe-9fc55295d7f4');\n",
              "        const dataTable =\n",
              "          await google.colab.kernel.invokeFunction('convertToInteractive',\n",
              "                                                    [key], {});\n",
              "        if (!dataTable) return;\n",
              "\n",
              "        const docLinkHtml = 'Like what you see? Visit the ' +\n",
              "          '<a target=\"_blank\" href=https://colab.research.google.com/notebooks/data_table.ipynb>data table notebook</a>'\n",
              "          + ' to learn more about interactive tables.';\n",
              "        element.innerHTML = '';\n",
              "        dataTable['output_type'] = 'display_data';\n",
              "        await google.colab.output.renderOutput(dataTable, element);\n",
              "        const docLink = document.createElement('div');\n",
              "        docLink.innerHTML = docLinkHtml;\n",
              "        element.appendChild(docLink);\n",
              "      }\n",
              "    </script>\n",
              "  </div>\n",
              "\n",
              "\n",
              "<div id=\"df-cadf1551-e2f3-46fb-9650-86016b403ffd\">\n",
              "  <button class=\"colab-df-quickchart\" onclick=\"quickchart('df-cadf1551-e2f3-46fb-9650-86016b403ffd')\"\n",
              "            title=\"Suggest charts\"\n",
              "            style=\"display:none;\">\n",
              "\n",
              "<svg xmlns=\"http://www.w3.org/2000/svg\" height=\"24px\"viewBox=\"0 0 24 24\"\n",
              "     width=\"24px\">\n",
              "    <g>\n",
              "        <path d=\"M19 3H5c-1.1 0-2 .9-2 2v14c0 1.1.9 2 2 2h14c1.1 0 2-.9 2-2V5c0-1.1-.9-2-2-2zM9 17H7v-7h2v7zm4 0h-2V7h2v10zm4 0h-2v-4h2v4z\"/>\n",
              "    </g>\n",
              "</svg>\n",
              "  </button>\n",
              "\n",
              "<style>\n",
              "  .colab-df-quickchart {\n",
              "      --bg-color: #E8F0FE;\n",
              "      --fill-color: #1967D2;\n",
              "      --hover-bg-color: #E2EBFA;\n",
              "      --hover-fill-color: #174EA6;\n",
              "      --disabled-fill-color: #AAA;\n",
              "      --disabled-bg-color: #DDD;\n",
              "  }\n",
              "\n",
              "  [theme=dark] .colab-df-quickchart {\n",
              "      --bg-color: #3B4455;\n",
              "      --fill-color: #D2E3FC;\n",
              "      --hover-bg-color: #434B5C;\n",
              "      --hover-fill-color: #FFFFFF;\n",
              "      --disabled-bg-color: #3B4455;\n",
              "      --disabled-fill-color: #666;\n",
              "  }\n",
              "\n",
              "  .colab-df-quickchart {\n",
              "    background-color: var(--bg-color);\n",
              "    border: none;\n",
              "    border-radius: 50%;\n",
              "    cursor: pointer;\n",
              "    display: none;\n",
              "    fill: var(--fill-color);\n",
              "    height: 32px;\n",
              "    padding: 0;\n",
              "    width: 32px;\n",
              "  }\n",
              "\n",
              "  .colab-df-quickchart:hover {\n",
              "    background-color: var(--hover-bg-color);\n",
              "    box-shadow: 0 1px 2px rgba(60, 64, 67, 0.3), 0 1px 3px 1px rgba(60, 64, 67, 0.15);\n",
              "    fill: var(--button-hover-fill-color);\n",
              "  }\n",
              "\n",
              "  .colab-df-quickchart-complete:disabled,\n",
              "  .colab-df-quickchart-complete:disabled:hover {\n",
              "    background-color: var(--disabled-bg-color);\n",
              "    fill: var(--disabled-fill-color);\n",
              "    box-shadow: none;\n",
              "  }\n",
              "\n",
              "  .colab-df-spinner {\n",
              "    border: 2px solid var(--fill-color);\n",
              "    border-color: transparent;\n",
              "    border-bottom-color: var(--fill-color);\n",
              "    animation:\n",
              "      spin 1s steps(1) infinite;\n",
              "  }\n",
              "\n",
              "  @keyframes spin {\n",
              "    0% {\n",
              "      border-color: transparent;\n",
              "      border-bottom-color: var(--fill-color);\n",
              "      border-left-color: var(--fill-color);\n",
              "    }\n",
              "    20% {\n",
              "      border-color: transparent;\n",
              "      border-left-color: var(--fill-color);\n",
              "      border-top-color: var(--fill-color);\n",
              "    }\n",
              "    30% {\n",
              "      border-color: transparent;\n",
              "      border-left-color: var(--fill-color);\n",
              "      border-top-color: var(--fill-color);\n",
              "      border-right-color: var(--fill-color);\n",
              "    }\n",
              "    40% {\n",
              "      border-color: transparent;\n",
              "      border-right-color: var(--fill-color);\n",
              "      border-top-color: var(--fill-color);\n",
              "    }\n",
              "    60% {\n",
              "      border-color: transparent;\n",
              "      border-right-color: var(--fill-color);\n",
              "    }\n",
              "    80% {\n",
              "      border-color: transparent;\n",
              "      border-right-color: var(--fill-color);\n",
              "      border-bottom-color: var(--fill-color);\n",
              "    }\n",
              "    90% {\n",
              "      border-color: transparent;\n",
              "      border-bottom-color: var(--fill-color);\n",
              "    }\n",
              "  }\n",
              "</style>\n",
              "\n",
              "  <script>\n",
              "    async function quickchart(key) {\n",
              "      const quickchartButtonEl =\n",
              "        document.querySelector('#' + key + ' button');\n",
              "      quickchartButtonEl.disabled = true;  // To prevent multiple clicks.\n",
              "      quickchartButtonEl.classList.add('colab-df-spinner');\n",
              "      try {\n",
              "        const charts = await google.colab.kernel.invokeFunction(\n",
              "            'suggestCharts', [key], {});\n",
              "      } catch (error) {\n",
              "        console.error('Error during call to suggestCharts:', error);\n",
              "      }\n",
              "      quickchartButtonEl.classList.remove('colab-df-spinner');\n",
              "      quickchartButtonEl.classList.add('colab-df-quickchart-complete');\n",
              "    }\n",
              "    (() => {\n",
              "      let quickchartButtonEl =\n",
              "        document.querySelector('#df-cadf1551-e2f3-46fb-9650-86016b403ffd button');\n",
              "      quickchartButtonEl.style.display =\n",
              "        google.colab.kernel.accessAllowed ? 'block' : 'none';\n",
              "    })();\n",
              "  </script>\n",
              "</div>\n",
              "\n",
              "    </div>\n",
              "  </div>\n"
            ],
            "application/vnd.google.colaboratory.intrinsic+json": {
              "type": "dataframe"
            }
          },
          "metadata": {},
          "execution_count": 55
        }
      ]
    },
    {
      "cell_type": "code",
      "source": [
        "corr_matrix = df.corr()\n",
        "sns.heatmap(corr_matrix, cmap='coolwarm')\n",
        "plt.title('Correlation Heatmap')\n",
        "plt.show()"
      ],
      "metadata": {
        "id": "McnlLDcTt-s1",
        "colab": {
          "base_uri": "https://localhost:8080/",
          "height": 475
        },
        "outputId": "4c85deba-0e75-46b5-923d-266814a33849"
      },
      "execution_count": null,
      "outputs": [
        {
          "output_type": "display_data",
          "data": {
            "text/plain": [
              "<Figure size 640x480 with 2 Axes>"
            ],
            "image/png": "[encoded data removed]"
          },
          "metadata": {}
        }
      ]
    },
    {
      "cell_type": "markdown",
      "source": [
        "# **Result Hypothesis**"
      ],
      "metadata": {
        "id": "qHz_26b3IwDL"
      }
    },
    {
      "cell_type": "code",
      "source": [
        "ContinesColumn_result, comperativeColumn_result = hypothesisTesting(df, continuous_columns , category_columns)"
      ],
      "metadata": {
        "id": "MFzxdLKkGIHV"
      },
      "execution_count": null,
      "outputs": []
    },
    {
      "cell_type": "code",
      "source": [
        "ContinesColumn_result_df = pd.DataFrame(ContinesColumn_result)\n",
        "ContinesColumn_result_df"
      ],
      "metadata": {
        "id": "z7ExaNr0I9pz"
      },
      "execution_count": null,
      "outputs": []
    },
    {
      "cell_type": "code",
      "source": [
        "comperativeColumn_result"
      ],
      "metadata": {
        "id": "Of_qD-hhNEWe"
      },
      "execution_count": null,
      "outputs": []
    },
    {
      "cell_type": "code",
      "source": [
        "# Create a heatmap\n",
        "sns.heatmap(comperativeColumn_result == 'There is a relationship', annot=True, cmap='coolwarm')\n",
        "plt.title('Hypothesis Test Results')\n",
        "plt.show()"
      ],
      "metadata": {
        "id": "7I51YNwoYU8l"
      },
      "execution_count": null,
      "outputs": []
    },
    {
      "cell_type": "markdown",
      "source": [
        "# **Data Visualization**"
      ],
      "metadata": {
        "id": "5hoQ21LlwJvV"
      }
    },
    {
      "cell_type": "code",
      "source": [
        "plt.figure(figsize = (8, 6))\n",
        "df.boxplot(column = \"Amount\", by = \"Class\")\n",
        "plt.xlabel(\"Class\")\n",
        "plt.ylabel(\"Amount\")\n",
        "plt.title(\"Boxplot for Amount by Class\")\n",
        "plt.show()"
      ],
      "metadata": {
        "colab": {
          "base_uri": "https://localhost:8080/",
          "height": 495
        },
        "id": "IpyR9ItQ6nk4",
        "outputId": "3ead3b07-829b-45de-8de9-2595d4c28b06"
      },
      "execution_count": null,
      "outputs": [
        {
          "output_type": "display_data",
          "data": {
            "text/plain": [
              "<Figure size 800x600 with 0 Axes>"
            ]
          },
          "metadata": {}
        },
        {
          "output_type": "display_data",
          "data": {
            "text/plain": [
              "<Figure size 640x480 with 1 Axes>"
            ],
            "image/png": "[encoded data removed]"
          },
          "metadata": {}
        }
      ]
    },
    {
      "cell_type": "code",
      "source": [
        "plt.figure(figsize = (8, 6))\n",
        "df.boxplot(column = \"Time\", by = \"Class\")\n",
        "plt.xlabel(\"Class\")\n",
        "plt.ylabel(\"Time\")\n",
        "plt.title(\"Boxplot for Amount by Class\")\n",
        "plt.show()"
      ],
      "metadata": {
        "colab": {
          "base_uri": "https://localhost:8080/",
          "height": 495
        },
        "id": "uPgXBT3p8FPY",
        "outputId": "a3588202-22a6-4c0e-8ff5-581a20533d62"
      },
      "execution_count": null,
      "outputs": [
        {
          "output_type": "display_data",
          "data": {
            "text/plain": [
              "<Figure size 800x600 with 0 Axes>"
            ]
          },
          "metadata": {}
        },
        {
          "output_type": "display_data",
          "data": {
            "text/plain": [
              "<Figure size 640x480 with 1 Axes>"
            ],
            "image/png": "[encoded data removed]"
          },
          "metadata": {}
        }
      ]
    },
    {
      "cell_type": "markdown",
      "source": [
        "# **Normalizing the dataset (Imbalance to balance dataset)**"
      ],
      "metadata": {
        "id": "ld8_3E38jxjM"
      }
    },
    {
      "cell_type": "code",
      "source": [
        "x=df.drop(['Class'], axis=1)\n",
        "y=df['Class']"
      ],
      "metadata": {
        "id": "Id_hJoBcjwmt"
      },
      "execution_count": null,
      "outputs": []
    },
    {
      "cell_type": "code",
      "source": [
        "#under sampling\n",
        "from imblearn.under_sampling import NearMiss\n",
        "model = NearMiss()\n",
        "x_new, y_new = model.fit_resample(x,y)\n",
        "x_new.shape, y_new.shape"
      ],
      "metadata": {
        "id": "J_7y9Sotj12u",
        "colab": {
          "base_uri": "https://localhost:8080/"
        },
        "outputId": "603bfb1e-ec14-421e-cf84-1a14b921c845"
      },
      "execution_count": null,
      "outputs": [
        {
          "output_type": "execute_result",
          "data": {
            "text/plain": [
              "((946, 30), (946,))"
            ]
          },
          "metadata": {},
          "execution_count": 10
        }
      ]
    },
    {
      "cell_type": "code",
      "source": [
        "#over sampling\n",
        "from imblearn.combine import SMOTETomek\n",
        "model = SMOTETomek()\n",
        "xnew, ynew = model.fit_resample(x,y)\n",
        "xnew.shape, ynew.shape"
      ],
      "metadata": {
        "id": "xLQF3w_Xj1u8",
        "colab": {
          "base_uri": "https://localhost:8080/"
        },
        "outputId": "23db58d1-bd77-4f1b-8de6-0a9684e52c61"
      },
      "execution_count": null,
      "outputs": [
        {
          "output_type": "execute_result",
          "data": {
            "text/plain": [
              "((565404, 30), (565404,))"
            ]
          },
          "metadata": {},
          "execution_count": 23
        }
      ]
    },
    {
      "cell_type": "markdown",
      "source": [
        "# **Machine Learning**"
      ],
      "metadata": {
        "id": "FJyTMjQ0lCDu"
      }
    },
    {
      "cell_type": "code",
      "source": [
        "# 1 data availability\n",
        "# 2 separating independent and dependent\n",
        "# 3 identifying algorithms/Model\n",
        "# 4 training\n",
        "# 5 evaluation"
      ],
      "metadata": {
        "id": "mChAtcQxhVXP"
      },
      "execution_count": null,
      "outputs": []
    },
    {
      "cell_type": "markdown",
      "source": [
        "**2 separating independent and dependent**\n"
      ],
      "metadata": {
        "id": "bB6ubBQtnocI"
      }
    },
    {
      "cell_type": "code",
      "source": [
        "#under sampling\n",
        "x_train,x_test,y_train,y_test = train_test_split(x_new,y_new,test_size=0.25)\n",
        "#over sampling\n",
        "x_train_1,x_test_1,y_train_1,y_test_1 = train_test_split(xnew,ynew,test_size=0.25)"
      ],
      "metadata": {
        "id": "y9SjvPNxzRyU"
      },
      "execution_count": null,
      "outputs": []
    },
    {
      "cell_type": "markdown",
      "source": [
        "**3 Identifying algorithms/Model:**"
      ],
      "metadata": {
        "id": "C13wviU6K1iK"
      }
    },
    {
      "cell_type": "code",
      "source": [
        "clf = LazyClassifier(verbose=0,ignore_warnings=True, custom_metric=None)\n",
        "models,predictions = clf.fit(x_train, x_test, y_train, y_test)\n",
        "print(models)"
      ],
      "metadata": {
        "colab": {
          "base_uri": "https://localhost:8080/"
        },
        "id": "J1YsROPjz0SM",
        "outputId": "17246475-0e3b-4857-afda-3261a6c55edd"
      },
      "execution_count": null,
      "outputs": [
        {
          "output_type": "stream",
          "name": "stderr",
          "text": [
            " 97%|█████████▋| 28/29 [00:06<00:00,  4.70it/s]"
          ]
        },
        {
          "output_type": "stream",
          "name": "stdout",
          "text": [
            "[LightGBM] [Info] Number of positive: 354, number of negative: 355\n",
            "[LightGBM] [Info] Auto-choosing col-wise multi-threading, the overhead of testing was 0.000580 seconds.\n",
            "You can set `force_col_wise=true` to remove the overhead.\n",
            "[LightGBM] [Info] Total Bins 7098\n",
            "[LightGBM] [Info] Number of data points in the train set: 709, number of used features: 30\n",
            "[LightGBM] [Info] [binary:BoostFromScore]: pavg=0.499295 -> initscore=-0.002821\n",
            "[LightGBM] [Info] Start training from score -0.002821\n",
            "[LightGBM] [Warning] No further splits with positive gain, best gain: -inf\n",
            "[LightGBM] [Warning] No further splits with positive gain, best gain: -inf\n",
            "[LightGBM] [Warning] No further splits with positive gain, best gain: -inf\n",
            "[LightGBM] [Warning] No further splits with positive gain, best gain: -inf\n",
            "[LightGBM] [Warning] No further splits with positive gain, best gain: -inf\n",
            "[LightGBM] [Warning] No further splits with positive gain, best gain: -inf\n",
            "[LightGBM] [Warning] No further splits with positive gain, best gain: -inf\n",
            "[LightGBM] [Warning] No further splits with positive gain, best gain: -inf\n",
            "[LightGBM] [Warning] No further splits with positive gain, best gain: -inf\n",
            "[LightGBM] [Warning] No further splits with positive gain, best gain: -inf\n",
            "[LightGBM] [Warning] No further splits with positive gain, best gain: -inf\n",
            "[LightGBM] [Warning] No further splits with positive gain, best gain: -inf\n",
            "[LightGBM] [Warning] No further splits with positive gain, best gain: -inf\n",
            "[LightGBM] [Warning] No further splits with positive gain, best gain: -inf\n",
            "[LightGBM] [Warning] No further splits with positive gain, best gain: -inf\n",
            "[LightGBM] [Warning] No further splits with positive gain, best gain: -inf\n"
          ]
        },
        {
          "output_type": "stream",
          "name": "stderr",
          "text": [
            "100%|██████████| 29/29 [00:07<00:00,  4.09it/s]"
          ]
        },
        {
          "output_type": "stream",
          "name": "stdout",
          "text": [
            "                               Accuracy  Balanced Accuracy  ROC AUC  F1 Score  \\\n",
            "Model                                                                           \n",
            "AdaBoostClassifier                 0.96               0.96     0.96      0.96   \n",
            "LGBMClassifier                     0.96               0.96     0.96      0.96   \n",
            "DecisionTreeClassifier             0.96               0.96     0.96      0.96   \n",
            "RandomForestClassifier             0.95               0.95     0.95      0.95   \n",
            "CalibratedClassifierCV             0.95               0.95     0.95      0.95   \n",
            "ExtraTreesClassifier               0.95               0.95     0.95      0.95   \n",
            "LogisticRegression                 0.95               0.95     0.95      0.95   \n",
            "XGBClassifier                      0.95               0.95     0.95      0.95   \n",
            "SVC                                0.94               0.94     0.94      0.94   \n",
            "LinearSVC                          0.94               0.94     0.94      0.94   \n",
            "PassiveAggressiveClassifier        0.94               0.94     0.94      0.94   \n",
            "BaggingClassifier                  0.94               0.94     0.94      0.94   \n",
            "SGDClassifier                      0.93               0.93     0.93      0.93   \n",
            "Perceptron                         0.93               0.93     0.93      0.93   \n",
            "GaussianNB                         0.92               0.92     0.92      0.92   \n",
            "QuadraticDiscriminantAnalysis      0.92               0.92     0.92      0.92   \n",
            "NuSVC                              0.92               0.92     0.92      0.92   \n",
            "KNeighborsClassifier               0.92               0.92     0.92      0.92   \n",
            "BernoulliNB                        0.91               0.91     0.91      0.91   \n",
            "LabelSpreading                     0.91               0.91     0.91      0.91   \n",
            "LabelPropagation                   0.91               0.91     0.91      0.91   \n",
            "ExtraTreeClassifier                0.91               0.91     0.91      0.91   \n",
            "RidgeClassifier                    0.89               0.89     0.89      0.89   \n",
            "LinearDiscriminantAnalysis         0.89               0.89     0.89      0.89   \n",
            "RidgeClassifierCV                  0.89               0.89     0.89      0.89   \n",
            "NearestCentroid                    0.85               0.85     0.85      0.85   \n",
            "DummyClassifier                    0.50               0.50     0.50      0.33   \n",
            "\n",
            "                               Time Taken  \n",
            "Model                                      \n",
            "AdaBoostClassifier                   1.16  \n",
            "LGBMClassifier                       0.85  \n",
            "DecisionTreeClassifier               0.15  \n",
            "RandomForestClassifier               0.67  \n",
            "CalibratedClassifierCV               0.56  \n",
            "ExtraTreesClassifier                 0.45  \n",
            "LogisticRegression                   0.12  \n",
            "XGBClassifier                        0.70  \n",
            "SVC                                  0.13  \n",
            "LinearSVC                            0.12  \n",
            "PassiveAggressiveClassifier          0.05  \n",
            "BaggingClassifier                    0.41  \n",
            "SGDClassifier                        0.08  \n",
            "Perceptron                           0.05  \n",
            "GaussianNB                           0.04  \n",
            "QuadraticDiscriminantAnalysis        0.08  \n",
            "NuSVC                                0.14  \n",
            "KNeighborsClassifier                 0.13  \n",
            "BernoulliNB                          0.04  \n",
            "LabelSpreading                       0.24  \n",
            "LabelPropagation                     0.21  \n",
            "ExtraTreeClassifier                  0.04  \n",
            "RidgeClassifier                      0.07  \n",
            "LinearDiscriminantAnalysis           0.09  \n",
            "RidgeClassifierCV                    0.13  \n",
            "NearestCentroid                      0.09  \n",
            "DummyClassifier                      0.14  \n"
          ]
        },
        {
          "output_type": "stream",
          "name": "stderr",
          "text": [
            "\n"
          ]
        }
      ]
    },
    {
      "cell_type": "code",
      "source": [
        "#over sampling\n",
        "clf = LazyClassifier(verbose=0,ignore_warnings=True, custom_metric=None)\n",
        "models,predictions = clf.fit(x_train_1,x_test_1,y_train_1,y_test_1)\n",
        "print(models)"
      ],
      "metadata": {
        "id": "yUci5aEO2s-F",
        "colab": {
          "base_uri": "https://localhost:8080/"
        },
        "outputId": "1cb822a8-1e32-4fe7-b021-ec015fb7e8ef"
      },
      "execution_count": null,
      "outputs": [
        {
          "output_type": "stream",
          "name": "stderr",
          "text": [
            " 38%|███▊      | 11/29 [26:22<44:57, 149.84s/it]"
          ]
        }
      ]
    },
    {
      "cell_type": "markdown",
      "source": [
        "**4 training**"
      ],
      "metadata": {
        "id": "Y6I4EY5xlNaF"
      }
    },
    {
      "cell_type": "code",
      "source": [
        "#under sampling"
      ],
      "metadata": {
        "id": "_6pt766guIyP"
      },
      "execution_count": null,
      "outputs": []
    },
    {
      "cell_type": "code",
      "source": [
        "# XGBClassifier\n",
        "model = XGBClassifier().fit(x_train, y_train)\n",
        "y_pred = model.predict(x_test)"
      ],
      "metadata": {
        "id": "Qx69TPSLBaEw"
      },
      "execution_count": null,
      "outputs": []
    },
    {
      "cell_type": "code",
      "source": [
        "# LGBMClassifier\n",
        "model_1 = LGBMClassifier().fit(x_train, y_train)\n",
        "y_pred_1 = model_1.predict(x_test)\n"
      ],
      "metadata": {
        "id": "ie4bOOrXeQ44",
        "colab": {
          "base_uri": "https://localhost:8080/"
        },
        "outputId": "fdcdc155-2cfd-4f1e-e728-5a32f488e4ac"
      },
      "execution_count": null,
      "outputs": [
        {
          "output_type": "stream",
          "name": "stdout",
          "text": [
            "[LightGBM] [Info] Number of positive: 344, number of negative: 365\n",
            "[LightGBM] [Info] Auto-choosing col-wise multi-threading, the overhead of testing was 0.000363 seconds.\n",
            "You can set `force_col_wise=true` to remove the overhead.\n",
            "[LightGBM] [Info] Total Bins 7091\n",
            "[LightGBM] [Info] Number of data points in the train set: 709, number of used features: 30\n",
            "[LightGBM] [Info] [binary:BoostFromScore]: pavg=0.485190 -> initscore=-0.059256\n",
            "[LightGBM] [Info] Start training from score -0.059256\n",
            "[LightGBM] [Warning] No further splits with positive gain, best gain: -inf\n",
            "[LightGBM] [Warning] No further splits with positive gain, best gain: -inf\n",
            "[LightGBM] [Warning] No further splits with positive gain, best gain: -inf\n",
            "[LightGBM] [Warning] No further splits with positive gain, best gain: -inf\n",
            "[LightGBM] [Warning] No further splits with positive gain, best gain: -inf\n",
            "[LightGBM] [Warning] No further splits with positive gain, best gain: -inf\n",
            "[LightGBM] [Warning] No further splits with positive gain, best gain: -inf\n",
            "[LightGBM] [Warning] No further splits with positive gain, best gain: -inf\n",
            "[LightGBM] [Warning] No further splits with positive gain, best gain: -inf\n",
            "[LightGBM] [Warning] No further splits with positive gain, best gain: -inf\n",
            "[LightGBM] [Warning] No further splits with positive gain, best gain: -inf\n",
            "[LightGBM] [Warning] No further splits with positive gain, best gain: -inf\n",
            "[LightGBM] [Warning] No further splits with positive gain, best gain: -inf\n",
            "[LightGBM] [Warning] No further splits with positive gain, best gain: -inf\n",
            "[LightGBM] [Warning] No further splits with positive gain, best gain: -inf\n",
            "[LightGBM] [Warning] No further splits with positive gain, best gain: -inf\n",
            "[LightGBM] [Warning] No further splits with positive gain, best gain: -inf\n",
            "[LightGBM] [Warning] No further splits with positive gain, best gain: -inf\n",
            "[LightGBM] [Warning] No further splits with positive gain, best gain: -inf\n",
            "[LightGBM] [Warning] No further splits with positive gain, best gain: -inf\n"
          ]
        }
      ]
    },
    {
      "cell_type": "code",
      "source": [
        "#over sampling"
      ],
      "metadata": {
        "id": "zyeBz8Fpt4SJ"
      },
      "execution_count": null,
      "outputs": []
    },
    {
      "cell_type": "code",
      "source": [
        "# XGBClassifier\n",
        "model_2 = XGBClassifier().fit(x_train, y_train)\n",
        "y_pred_2 = model_2.predict(x_test)"
      ],
      "metadata": {
        "id": "XKbuFBZitgk3"
      },
      "execution_count": null,
      "outputs": []
    },
    {
      "cell_type": "code",
      "source": [
        "# LGBMClassifier\n",
        "model_3 = LGBMClassifier().fit(x_train, y_train)\n",
        "y_pred_3 = model_3.predict(x_test)"
      ],
      "metadata": {
        "colab": {
          "base_uri": "https://localhost:8080/"
        },
        "id": "tIDxWoaotipH",
        "outputId": "a8b24d7d-6771-47ba-d163-3d9ad5b910aa"
      },
      "execution_count": null,
      "outputs": [
        {
          "output_type": "stream",
          "name": "stdout",
          "text": [
            "[LightGBM] [Info] Number of positive: 359, number of negative: 350\n",
            "[LightGBM] [Info] Auto-choosing col-wise multi-threading, the overhead of testing was 0.000286 seconds.\n",
            "You can set `force_col_wise=true` to remove the overhead.\n",
            "[LightGBM] [Info] Total Bins 7095\n",
            "[LightGBM] [Info] Number of data points in the train set: 709, number of used features: 30\n",
            "[LightGBM] [Info] [binary:BoostFromScore]: pavg=0.506347 -> initscore=0.025389\n",
            "[LightGBM] [Info] Start training from score 0.025389\n",
            "[LightGBM] [Warning] No further splits with positive gain, best gain: -inf\n",
            "[LightGBM] [Warning] No further splits with positive gain, best gain: -inf\n",
            "[LightGBM] [Warning] No further splits with positive gain, best gain: -inf\n",
            "[LightGBM] [Warning] No further splits with positive gain, best gain: -inf\n",
            "[LightGBM] [Warning] No further splits with positive gain, best gain: -inf\n",
            "[LightGBM] [Warning] No further splits with positive gain, best gain: -inf\n",
            "[LightGBM] [Warning] No further splits with positive gain, best gain: -inf\n",
            "[LightGBM] [Warning] No further splits with positive gain, best gain: -inf\n",
            "[LightGBM] [Warning] No further splits with positive gain, best gain: -inf\n",
            "[LightGBM] [Warning] No further splits with positive gain, best gain: -inf\n",
            "[LightGBM] [Warning] No further splits with positive gain, best gain: -inf\n",
            "[LightGBM] [Warning] No further splits with positive gain, best gain: -inf\n",
            "[LightGBM] [Warning] No further splits with positive gain, best gain: -inf\n",
            "[LightGBM] [Warning] No further splits with positive gain, best gain: -inf\n",
            "[LightGBM] [Warning] No further splits with positive gain, best gain: -inf\n",
            "[LightGBM] [Warning] No further splits with positive gain, best gain: -inf\n"
          ]
        }
      ]
    },
    {
      "cell_type": "markdown",
      "source": [
        "**5 Evaluation**"
      ],
      "metadata": {
        "id": "J0AXelvfKe2E"
      }
    },
    {
      "cell_type": "code",
      "source": [
        "#under sampling"
      ],
      "metadata": {
        "id": "UUcyRF1q2NR3"
      },
      "execution_count": null,
      "outputs": []
    },
    {
      "cell_type": "code",
      "source": [
        "# XGBClassifier\n",
        "kas = top_k_accuracy_score(y_test, y_pred)\n",
        "ps = precision_score(y_test, y_pred)\n",
        "rs = recall_score(y_test, y_pred)\n",
        "print( \"XGBClassifier\", \"k_accuracy_score :\", kas, \"precision_score :\", ps, \"recall_score :\", rs )\n",
        "# LGBMClassifier\n",
        "kas1 = top_k_accuracy_score(y_test, y_pred_1)\n",
        "ps1 = precision_score(y_test, y_pred_1)\n",
        "rs1 = recall_score(y_test, y_pred_1)\n",
        "print( \"LGBMClassifier\", \"k_accuracy_score :\", kas1, \"precision_score :\", ps1, \"recall_score :\", rs1 )"
      ],
      "metadata": {
        "colab": {
          "base_uri": "https://localhost:8080/"
        },
        "id": "BvC1oAVI2JmR",
        "outputId": "10f22db3-f1ff-4847-9764-5abee5b5a659"
      },
      "execution_count": null,
      "outputs": [
        {
          "output_type": "stream",
          "name": "stdout",
          "text": [
            "XGBClassifier k_accuracy_score : 1.0 precision_score : 0.47580645161290325 recall_score : 0.5175438596491229\n",
            "LGBMClassifier k_accuracy_score : 1.0 precision_score : 0.47540983606557374 recall_score : 0.5087719298245614\n"
          ]
        }
      ]
    },
    {
      "cell_type": "code",
      "source": [
        "#over sampling"
      ],
      "metadata": {
        "id": "CsE2kYeHt7yn"
      },
      "execution_count": null,
      "outputs": []
    },
    {
      "cell_type": "code",
      "source": [
        "# XGBClassifier\n",
        "kas2 = top_k_accuracy_score(y_test, y_pred_2)\n",
        "ps2 = precision_score(y_test, y_pred_2)\n",
        "rs2 = recall_score(y_test, y_pred_2)\n",
        "print( \"XGBClassifier\", \"k_accuracy_score :\", kas2, \"precision_score :\", ps2, \"recall_score :\", rs2 )\n",
        "# LGBMClassifier\n",
        "kas3 = top_k_accuracy_score(y_test, y_pred_3)\n",
        "ps3 = precision_score(y_test, y_pred_3)\n",
        "rs3 = recall_score(y_test, y_pred_3)\n",
        "print( \"LGBMClassifier\", \"k_accuracy_score :\", kas3, \"precision_score :\", ps3, \"recall_score :\", rs3 )"
      ],
      "metadata": {
        "colab": {
          "base_uri": "https://localhost:8080/"
        },
        "id": "Rf6LjIt7udOg",
        "outputId": "70e7b26c-4fc6-44f3-835b-9b6b45e9bbde"
      },
      "execution_count": null,
      "outputs": [
        {
          "output_type": "stream",
          "name": "stdout",
          "text": [
            "XGBClassifier k_accuracy_score : 1.0 precision_score : 0.9819819819819819 recall_score : 0.956140350877193\n",
            "LGBMClassifier k_accuracy_score : 1.0 precision_score : 1.0 recall_score : 0.9473684210526315\n"
          ]
        }
      ]
    }
  ]
}